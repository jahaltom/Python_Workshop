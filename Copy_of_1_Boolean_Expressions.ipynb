{
  "nbformat": 4,
  "nbformat_minor": 0,
  "metadata": {
    "kernelspec": {
      "display_name": "Python 3",
      "language": "python",
      "name": "python3"
    },
    "language_info": {
      "codemirror_mode": {
        "name": "ipython",
        "version": 3
      },
      "file_extension": ".py",
      "mimetype": "text/x-python",
      "name": "python",
      "nbconvert_exporter": "python",
      "pygments_lexer": "ipython3",
      "version": "3.6.5"
    },
    "colab": {
      "name": "Copy of 1_Boolean_Expressions.ipynb",
      "provenance": [],
      "collapsed_sections": [],
      "include_colab_link": true
    }
  },
  "cells": [
    {
      "cell_type": "markdown",
      "metadata": {
        "id": "view-in-github",
        "colab_type": "text"
      },
      "source": [
        "<a href=\"https://colab.research.google.com/github/jahaltom/Python_Workshop/blob/main/Copy_of_1_Boolean_Expressions.ipynb\" target=\"_parent\"><img src=\"https://colab.research.google.com/assets/colab-badge.svg\" alt=\"Open In Colab\"/></a>"
      ]
    },
    {
      "cell_type": "markdown",
      "metadata": {
        "id": "QruCTGuJJjJI"
      },
      "source": [
        "# Boolean expressions\n",
        "Boolean expressions a.k.a logical expressions are expressions which evaluate to either *True* or *False*. In python 3, *True* and *False* are keywords. A boolean expression can be written using a combination of comparision and boolean operators. Boolean expressions are used in if-else statements to conditionally execute blocks in a program.\n"
      ]
    },
    {
      "cell_type": "markdown",
      "metadata": {
        "id": "I5ri1SPrEvSe"
      },
      "source": [
        "# Comparison  and logical operators\n",
        "\n",
        "The comparision operators in python are used to compare values of two objects and return *True* or *False*. The comparision result depends on the type of the object. There are a number of comparision operators in python. The table below summarizes the comparision operators\n",
        "\n",
        "| Operator | Description              |\n",
        "|---------:|--------------------------|\n",
        "| ==       | Equals to                |\n",
        "| !=       | Not equal to             |\n",
        "| >        | Greater than             |\n",
        "| >=       | Greater than or equal to |\n",
        "| <        | Less than                |\n",
        "| <=       | Less than or equal to    |\n",
        "| is       | Is the same object       |\n",
        "| in       | Membership test |\n",
        "\n",
        "The logical operators can combine logical expressions to make decisions based on multiple conditions. The table below summarizes the logical operators\n",
        "\n",
        "| Operator | Description     |\n",
        "|---------:|-----------------|\n",
        "| or       | Boolean OR      |\n",
        "| and      | Boolean AND     |\n",
        "| not      | Boolean NOT     |\n",
        "\n",
        "\n"
      ]
    },
    {
      "cell_type": "markdown",
      "metadata": {
        "id": "Fd-ebtjj7aQH"
      },
      "source": [
        "In the Python programing language, there are some built in object types. Here we will evaluate them with comparison and logical operators. \n",
        "\n",
        "|Object    | Description |\n",
        "|---------:|-------------|\n",
        "| int | Intiger |\n",
        "| float | Decimals, Fractions|\n",
        "| str | Character string|\n",
        "| list | Mutable seqence of objects|, \n",
        "| bool | boolean value | "
      ]
    },
    {
      "cell_type": "markdown",
      "metadata": {
        "id": "u_jE1W0PboOV"
      },
      "source": [
        "#Intigers\n",
        "Evaluate the following expressions and determine whether or not they are ture or false. "
      ]
    },
    {
      "cell_type": "code",
      "metadata": {
        "id": "VeCKTarLb-N5"
      },
      "source": [
        "10==5"
      ],
      "execution_count": null,
      "outputs": []
    },
    {
      "cell_type": "code",
      "metadata": {
        "id": "YFbiYb7rgGzm"
      },
      "source": [
        "10 is 10"
      ],
      "execution_count": null,
      "outputs": []
    },
    {
      "cell_type": "code",
      "metadata": {
        "id": "BEp7QRzBgOuv"
      },
      "source": [
        "10 is not 10"
      ],
      "execution_count": null,
      "outputs": []
    },
    {
      "cell_type": "code",
      "metadata": {
        "id": "gVGWYAkzb-Yn"
      },
      "source": [
        "10!=5"
      ],
      "execution_count": null,
      "outputs": []
    },
    {
      "cell_type": "code",
      "metadata": {
        "id": "CPISuQvIb-kX"
      },
      "source": [
        "5<10"
      ],
      "execution_count": null,
      "outputs": []
    },
    {
      "cell_type": "code",
      "metadata": {
        "id": "U1Cr7WwEb-wc"
      },
      "source": [
        "5<=10"
      ],
      "execution_count": null,
      "outputs": []
    },
    {
      "cell_type": "code",
      "metadata": {
        "id": "xebOF7VccoKn"
      },
      "source": [
        "5>=10"
      ],
      "execution_count": null,
      "outputs": []
    },
    {
      "cell_type": "code",
      "metadata": {
        "id": "QdXT0b3qb-6p"
      },
      "source": [
        "10==(20-10)"
      ],
      "execution_count": null,
      "outputs": []
    },
    {
      "cell_type": "markdown",
      "metadata": {
        "id": "Hvcf241KeBV-"
      },
      "source": [
        "The not operator evaluates the expression as being NOT true."
      ]
    },
    {
      "cell_type": "code",
      "metadata": {
        "id": "gu-Gd_xVb_OX"
      },
      "source": [
        "not 1<2"
      ],
      "execution_count": null,
      "outputs": []
    },
    {
      "cell_type": "code",
      "metadata": {
        "id": "1HVSFRsXeGLA"
      },
      "source": [
        "not 1>2"
      ],
      "execution_count": null,
      "outputs": []
    },
    {
      "cell_type": "markdown",
      "metadata": {
        "id": "YzuWFJ6egoRA"
      },
      "source": [
        "The ** operator is used to raise the number on the left to the power of the number on the right. "
      ]
    },
    {
      "cell_type": "code",
      "metadata": {
        "id": "2ofzDYiefIPC"
      },
      "source": [
        "2**4 == 16 "
      ],
      "execution_count": null,
      "outputs": []
    },
    {
      "cell_type": "markdown",
      "metadata": {
        "id": "4Ih5BZsrhDC9"
      },
      "source": [
        "#Floats\n",
        "Floats are numerical objects that are decimals, fractions, or numabers written  in scientific notation. Evaluate the following expressions and determine whether or not they are ture or false.\n"
      ]
    },
    {
      "cell_type": "code",
      "metadata": {
        "id": "qtdqIGG2h3Db"
      },
      "source": [
        "0.5 == (1/2)"
      ],
      "execution_count": null,
      "outputs": []
    },
    {
      "cell_type": "code",
      "metadata": {
        "id": "vojCYahyh3Np"
      },
      "source": [
        "1.233E2 == 123.3"
      ],
      "execution_count": null,
      "outputs": []
    },
    {
      "cell_type": "code",
      "metadata": {
        "id": "zR-Eg47xh3ev"
      },
      "source": [
        "5E-1 == (1/2)"
      ],
      "execution_count": null,
      "outputs": []
    },
    {
      "cell_type": "markdown",
      "metadata": {
        "id": "a7B414p_jKZq"
      },
      "source": [
        ""
      ]
    },
    {
      "cell_type": "code",
      "metadata": {
        "id": "CJQ7zMwajKwx"
      },
      "source": [
        "5E2 == 500"
      ],
      "execution_count": null,
      "outputs": []
    },
    {
      "cell_type": "code",
      "metadata": {
        "id": "SrWSUZuJ7bGP"
      },
      "source": [
        "\n",
        "#Float to Intiger\n",
        "print(1.23E2 == 123)\n",
        "print(1.0 == 1)\n",
        "print((1/2)== 2)\n",
        "##Compares them as objects rather than value\n",
        "print(5 is 5.0)\n",
        "print (5 is not 5.0)\n",
        "\n",
        "#Exponents \n",
        "print(2.0**4)\n",
        "print(2.0**4 == 16)\n",
        "print(2.0**4 == 16.0)\n",
        "\n",
        "##Combine \n",
        "print((2.0**4)/4.0 == 4)\n",
        "\n",
        "\n",
        "\n",
        "\n",
        "####Strings\n",
        "#Equal operator is case sensitive\n",
        "print(\"Python\"==\"Python\")\n",
        "print(\"Python\"==\"python\")\n",
        "print(\"Python\"!=\"python\")\n",
        "\n",
        "# Does ‘p’ come before ‘P’?\n",
        "print('python' > 'Python')\n",
        "#This is because each char is assigned a unicode value. Insert Table \n",
        "print('A unicode is', ord('A'), ',a unicode is', ord('a'))\n",
        "\n",
        "##The <> operators evaluate the strings by alphabetical order \n",
        "print(\"Python\">\"ABCDEFGHI\")\n",
        "print(\"Python\"<\"ABCDEFGHI\")\n",
        "\n",
        "##Uses first letter in each string and if matcing moves to next. \n",
        "print(\"python\" > \"pythom\")\n",
        "#If strings are the same except one has an additional char, the larger length string is considered greater than the other one.\n",
        "print(\"Pythonn\">\"Python\")\n",
        "\n",
        "\n",
        "str1 = 'abc'\n",
        "str2 = 'abc'\n",
        "print(str1 == str2)\n",
        "print(str1 is str2)\n",
        "\n",
        "#More complex expressoins\n",
        "## Returns true if at least one statment is true\n",
        "print( (5==5) or (7==3))\n",
        "print( (5==5) or (7==3) or (2==1))\n",
        "##Returns true only if both statments are true\n",
        "print( (5==5) and (7==3))\n",
        "##or comes before and \n",
        "print( (5==5) and (7==3) or (5.0==5.0) )\n",
        "\n",
        "\n",
        "It’s clear that dum and dee refer to objects that are equal, but not to the same object. They have distinct identities.\n",
        "##List\n",
        "#Int List\n",
        "print([1]==[1])\n",
        "print([1]==[2])\n",
        "\n",
        "Arr = [1,2,3,4]\n",
        "print(5 in Arr)\n",
        "print(4 in Arr)\n",
        "\n",
        "#String List\n",
        "Arr1 = [\"Monkey\",\"Mouse\",\"Hamster\"]\n",
        "Arr2 = [\"Dog\",\"Cat\",\"Rabbit\"]\n",
        "print(Arr1 == Arr2)\n",
        "print(\"Dog\" in Arr2)\n",
        "print(Arr1 is Arr2)\n",
        "\n",
        "##is must be same value(contents) and same object type. \n",
        "print(Arr1 is Arr1)\n",
        "\n",
        "x=['1','2']\n",
        "y=['1','2']\n",
        "print(x is y)\n",
        "\n",
        "x=y\n",
        "print(x is y)\n",
        "\n",
        "\n",
        "##Boolean operators\n",
        "print(True==False)\n",
        "\n",
        "\n",
        "\n",
        "\n",
        "#fruit1 = input('Please enter the name of first fruit:\\n')\n",
        "#fruit2 = input('Please enter the name of second fruit:\\n')\n",
        "\n"
      ],
      "execution_count": null,
      "outputs": []
    },
    {
      "cell_type": "markdown",
      "metadata": {
        "id": "ZOijk_5j6jEK"
      },
      "source": [
        "Any variable in python can be mapped to a True or False value using the constructor function bool. bool takes any python value and return corresponding True or False value. 0, empty collections, None and False have False values. Most other values are True."
      ]
    },
    {
      "cell_type": "code",
      "metadata": {
        "id": "XDqPifaRJjJK"
      },
      "source": [
        "print(bool(True))\n",
        "print(bool(False))\n",
        "print(bool(1))\n",
        "print(bool(0))\n",
        "print(bool([]))\n",
        "print(bool([False]))\n",
        "print(bool(\"False\"))\n",
        "print(bool({}))\n",
        "print(bool(()))\n",
        "print(bool(\"\"))\n",
        "print(bool(None))\n",
        "print(bool([\"\"]))\n",
        "print(bool((\"\")))"
      ],
      "execution_count": null,
      "outputs": []
    },
    {
      "cell_type": "code",
      "metadata": {
        "id": "2KYjvv0QJjJM"
      },
      "source": [
        "'a'=='a'"
      ],
      "execution_count": null,
      "outputs": []
    },
    {
      "cell_type": "code",
      "metadata": {
        "id": "Pjmj6uXHJjJM",
        "outputId": "f9f3a61d-301c-4893-c8c8-1bf539d7322e"
      },
      "source": [
        "2!=2"
      ],
      "execution_count": null,
      "outputs": [
        {
          "output_type": "execute_result",
          "data": {
            "text/plain": [
              "False"
            ]
          },
          "metadata": {
            "tags": []
          },
          "execution_count": 3
        }
      ]
    },
    {
      "cell_type": "code",
      "metadata": {
        "id": "fj4IuV-GJjJN",
        "outputId": "8a6b4c62-7d59-4383-e696-20f9630a4b3e"
      },
      "source": [
        "2>-100"
      ],
      "execution_count": null,
      "outputs": [
        {
          "output_type": "execute_result",
          "data": {
            "text/plain": [
              "True"
            ]
          },
          "metadata": {
            "tags": []
          },
          "execution_count": 4
        }
      ]
    },
    {
      "cell_type": "code",
      "metadata": {
        "id": "pwSgDStmJjJN",
        "outputId": "de87592f-8ccf-4c6b-f31e-3d8d2d89355d"
      },
      "source": [
        "3>=3"
      ],
      "execution_count": null,
      "outputs": [
        {
          "output_type": "execute_result",
          "data": {
            "text/plain": [
              "True"
            ]
          },
          "metadata": {
            "tags": []
          },
          "execution_count": 5
        }
      ]
    },
    {
      "cell_type": "code",
      "metadata": {
        "id": "tsvAqJhGJjJO",
        "outputId": "96957ea4-33cc-4b9b-b2cf-c8d3f9985d32"
      },
      "source": [
        "5<8"
      ],
      "execution_count": null,
      "outputs": [
        {
          "output_type": "execute_result",
          "data": {
            "text/plain": [
              "True"
            ]
          },
          "metadata": {
            "tags": []
          },
          "execution_count": 6
        }
      ]
    },
    {
      "cell_type": "code",
      "metadata": {
        "id": "ArYs0oy_JjJP",
        "outputId": "e6f61e4c-4670-4678-f365-0ccf2b1e50ee"
      },
      "source": [
        "5<=8"
      ],
      "execution_count": null,
      "outputs": [
        {
          "output_type": "execute_result",
          "data": {
            "text/plain": [
              "True"
            ]
          },
          "metadata": {
            "tags": []
          },
          "execution_count": 7
        }
      ]
    },
    {
      "cell_type": "code",
      "metadata": {
        "id": "fB1IarlGJjJQ",
        "colab": {
          "base_uri": "https://localhost:8080/"
        },
        "outputId": "a4320232-8135-46c6-a2a0-fc2a2feaf6e6"
      },
      "source": [
        "x=['1','2']\n",
        "y=['1','2']\n",
        "x is y\n"
      ],
      "execution_count": null,
      "outputs": [
        {
          "output_type": "execute_result",
          "data": {
            "text/plain": [
              "False"
            ]
          },
          "metadata": {
            "tags": []
          },
          "execution_count": 105
        }
      ]
    },
    {
      "cell_type": "code",
      "metadata": {
        "id": "t2pGudKeJjJQ"
      },
      "source": [
        "y=x\n"
      ],
      "execution_count": null,
      "outputs": []
    },
    {
      "cell_type": "code",
      "metadata": {
        "id": "CZW6j9AZJjJR",
        "outputId": "2f088d9e-a1d9-42df-8b7b-fa84b2be9c3b"
      },
      "source": [
        "x is y"
      ],
      "execution_count": null,
      "outputs": [
        {
          "output_type": "execute_result",
          "data": {
            "text/plain": [
              "True"
            ]
          },
          "metadata": {
            "tags": []
          },
          "execution_count": 10
        }
      ]
    },
    {
      "cell_type": "code",
      "metadata": {
        "id": "KYk99YN8JjJR"
      },
      "source": [
        "str1 = 'abc'\n",
        "str2= 'abc'"
      ],
      "execution_count": null,
      "outputs": []
    },
    {
      "cell_type": "code",
      "metadata": {
        "id": "RmKmeVGPJjJR",
        "outputId": "c080ba22-a505-4b12-f7f0-f1c04852fda5"
      },
      "source": [
        "str1 == str2"
      ],
      "execution_count": null,
      "outputs": [
        {
          "output_type": "execute_result",
          "data": {
            "text/plain": [
              "True"
            ]
          },
          "metadata": {
            "tags": []
          },
          "execution_count": 12
        }
      ]
    },
    {
      "cell_type": "code",
      "metadata": {
        "id": "mnnx6gUNJjJS",
        "outputId": "db56439a-0d36-4fc3-a80a-6eae02d8753e"
      },
      "source": [
        "str1 is str2"
      ],
      "execution_count": null,
      "outputs": [
        {
          "output_type": "execute_result",
          "data": {
            "text/plain": [
              "True"
            ]
          },
          "metadata": {
            "tags": []
          },
          "execution_count": 13
        }
      ]
    },
    {
      "cell_type": "code",
      "metadata": {
        "id": "fB1lSxrvJjJS",
        "outputId": "328a4e58-8712-4618-d43a-bf601a7ddc7a"
      },
      "source": [
        "2 in [1,2,3]"
      ],
      "execution_count": null,
      "outputs": [
        {
          "output_type": "execute_result",
          "data": {
            "text/plain": [
              "True"
            ]
          },
          "metadata": {
            "tags": []
          },
          "execution_count": 14
        }
      ]
    },
    {
      "cell_type": "code",
      "metadata": {
        "id": "u4-XkDXQJjJT",
        "outputId": "715a1abe-0d2b-4ca4-9166-b0edf81bdc86"
      },
      "source": [
        "1<2 and 1<3"
      ],
      "execution_count": null,
      "outputs": [
        {
          "output_type": "execute_result",
          "data": {
            "text/plain": [
              "True"
            ]
          },
          "metadata": {
            "tags": []
          },
          "execution_count": 15
        }
      ]
    },
    {
      "cell_type": "code",
      "metadata": {
        "id": "jbxN9wLsJjJT",
        "outputId": "5c49f460-c1ac-417f-835d-0a5f8b157693"
      },
      "source": [
        "1<2 or 2>3"
      ],
      "execution_count": null,
      "outputs": [
        {
          "output_type": "execute_result",
          "data": {
            "text/plain": [
              "True"
            ]
          },
          "metadata": {
            "tags": []
          },
          "execution_count": 16
        }
      ]
    },
    {
      "cell_type": "code",
      "metadata": {
        "id": "28MoGOnWJjJU",
        "outputId": "25d8d0a1-d2be-403e-d94a-de845aa4156d"
      },
      "source": [
        "not 1<2"
      ],
      "execution_count": null,
      "outputs": [
        {
          "output_type": "execute_result",
          "data": {
            "text/plain": [
              "False"
            ]
          },
          "metadata": {
            "tags": []
          },
          "execution_count": 17
        }
      ]
    },
    {
      "cell_type": "code",
      "metadata": {
        "id": "YBuNWTKDJjJU"
      },
      "source": [
        ""
      ],
      "execution_count": null,
      "outputs": []
    },
    {
      "cell_type": "code",
      "metadata": {
        "id": "Vb89gcUxQUUx"
      },
      "source": [
        "x=100;y=0\n",
        "if (x==y):\n",
        "    print(\"Is equal\")\n",
        "else:\n",
        "    print(\"Is not equal\")\n",
        "\n",
        "x=100;y=0\n",
        "if (x!=y):\n",
        "    print(\"Is not equal\")\n",
        "else:\n",
        "    print(\"Is equal\")\n",
        "\n",
        "##Is the same object. \n",
        "x=100;y=0\n",
        "##Returns boolean()\n",
        "print(x==y)\n",
        "\n",
        "if (x==y) is True:\n",
        "    print(\"Is equal\")\n",
        "else:\n",
        "    print(\"Is not equal\")\n"
      ],
      "execution_count": null,
      "outputs": []
    }
  ]
}