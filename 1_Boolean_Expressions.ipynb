{
  "nbformat": 4,
  "nbformat_minor": 0,
  "metadata": {
    "kernelspec": {
      "display_name": "Python 3",
      "language": "python",
      "name": "python3"
    },
    "language_info": {
      "codemirror_mode": {
        "name": "ipython",
        "version": 3
      },
      "file_extension": ".py",
      "mimetype": "text/x-python",
      "name": "python",
      "nbconvert_exporter": "python",
      "pygments_lexer": "ipython3",
      "version": "3.6.5"
    },
    "colab": {
      "name": "Copy of Copy of 1_Boolean_Expressions.ipynb",
      "provenance": [],
      "collapsed_sections": [
        "QruCTGuJJjJI",
        "I5ri1SPrEvSe"
      ],
      "include_colab_link": true
    }
  },
  "cells": [
    {
      "cell_type": "markdown",
      "metadata": {
        "id": "view-in-github",
        "colab_type": "text"
      },
      "source": [
        "<a href=\"https://colab.research.google.com/github/jahaltom/Python_Workshop/blob/main/1_Boolean_Expressions.ipynb\" target=\"_parent\"><img src=\"https://colab.research.google.com/assets/colab-badge.svg\" alt=\"Open In Colab\"/></a>"
      ]
    },
    {
      "cell_type": "markdown",
      "metadata": {
        "id": "QruCTGuJJjJI"
      },
      "source": [
        "# Boolean expressions\n",
        "Boolean expressions a.k.a logical expressions are expressions which evaluate to either *True* or *False*. In python 3, *True* and *False* are keywords. A boolean expression can be written using a combination of comparison and boolean operators. Boolean expressions are used in if-else statements to conditionally execute blocks in a program.\n"
      ]
    },
    {
      "cell_type": "markdown",
      "metadata": {
        "id": "I5ri1SPrEvSe"
      },
      "source": [
        "# Comparison  and logical operators\n",
        "\n",
        "The comparison  operators in python are used to compare values of two objects and return *True* or *False*. The comparison  result depends on the type of the object. There are a number of comparison  operators in python. The table below summarizes the comparison  operators\n",
        "\n",
        "| Operator | Description              |\n",
        "|---------:|--------------------------|\n",
        "| ==       | Equals to                |\n",
        "| !=       | Not equal to             |\n",
        "| >        | Greater than             |\n",
        "| >=       | Greater than or equal to |\n",
        "| <        | Less than                |\n",
        "| <=       | Less than or equal to    |\n",
        "| is       | Is the same object       |\n",
        "| in       | Membership test |\n",
        "\n",
        "The logical operators can combine logical expressions to make decisions based on multiple conditions. The table below summarizes the logical operators\n",
        "\n",
        "| Operator | Description     |\n",
        "|---------:|-----------------|\n",
        "| or       | Boolean OR      |\n",
        "| and      | Boolean AND     |\n",
        "| not      | Boolean NOT     |\n",
        "\n",
        "\n"
      ]
    },
    {
      "cell_type": "markdown",
      "metadata": {
        "id": "GS3_936yS0Kw"
      },
      "source": [
        "In the Python programing language, there are some built in object types. Here we will evaluate them with comparison and logical operators. \n",
        "\n",
        "|Object    | Description |\n",
        "|---------:|-------------|\n",
        "| int | Intiger |\n",
        "| float | Decimals, Fractions|\n",
        "| str | Character string|\n",
        "| list | Mutable seqence of objects|\n",
        "| bool | boolean value | "
      ]
    },
    {
      "cell_type": "markdown",
      "metadata": {
        "id": "u_jE1W0PboOV"
      },
      "source": [
        "#Integers\n",
        "In python integers are whole numbers both positive and negative and contain no decimal point. \n",
        "\n",
        "Evaluate the following expressions and determine whether they are true or false. "
      ]
    },
    {
      "cell_type": "code",
      "metadata": {
        "id": "VeCKTarLb-N5"
      },
      "source": [
        "10==5"
      ],
      "execution_count": null,
      "outputs": []
    },
    {
      "cell_type": "code",
      "metadata": {
        "id": "YFbiYb7rgGzm"
      },
      "source": [
        "10 is 10"
      ],
      "execution_count": null,
      "outputs": []
    },
    {
      "cell_type": "code",
      "metadata": {
        "id": "BEp7QRzBgOuv"
      },
      "source": [
        "10 is not 10"
      ],
      "execution_count": null,
      "outputs": []
    },
    {
      "cell_type": "code",
      "metadata": {
        "id": "gVGWYAkzb-Yn"
      },
      "source": [
        "10!=5"
      ],
      "execution_count": null,
      "outputs": []
    },
    {
      "cell_type": "code",
      "metadata": {
        "id": "CPISuQvIb-kX"
      },
      "source": [
        "5<10"
      ],
      "execution_count": null,
      "outputs": []
    },
    {
      "cell_type": "code",
      "metadata": {
        "id": "U1Cr7WwEb-wc"
      },
      "source": [
        "5<=10"
      ],
      "execution_count": null,
      "outputs": []
    },
    {
      "cell_type": "code",
      "metadata": {
        "id": "xebOF7VccoKn"
      },
      "source": [
        "5>=10"
      ],
      "execution_count": null,
      "outputs": []
    },
    {
      "cell_type": "code",
      "metadata": {
        "id": "QdXT0b3qb-6p"
      },
      "source": [
        "10==(20-10)"
      ],
      "execution_count": null,
      "outputs": []
    },
    {
      "cell_type": "markdown",
      "metadata": {
        "id": "Hvcf241KeBV-"
      },
      "source": [
        "The not operator evaluates the expression as being NOT true."
      ]
    },
    {
      "cell_type": "code",
      "metadata": {
        "id": "gu-Gd_xVb_OX"
      },
      "source": [
        "not 1<2"
      ],
      "execution_count": null,
      "outputs": []
    },
    {
      "cell_type": "code",
      "metadata": {
        "id": "1HVSFRsXeGLA"
      },
      "source": [
        "not 1>2"
      ],
      "execution_count": null,
      "outputs": []
    },
    {
      "cell_type": "markdown",
      "metadata": {
        "id": "YzuWFJ6egoRA"
      },
      "source": [
        "The ** operator is used to raise the number on the left to the power of the number on the right. "
      ]
    },
    {
      "cell_type": "code",
      "metadata": {
        "id": "2ofzDYiefIPC"
      },
      "source": [
        "2**4 == 16 "
      ],
      "execution_count": null,
      "outputs": []
    },
    {
      "cell_type": "markdown",
      "metadata": {
        "id": "4Ih5BZsrhDC9"
      },
      "source": [
        "#Floats\n",
        "Floats are numerical objects that are decimals, fractions, or numbers written  in scientific notation. Evaluate the following expressions and determine whether or not they are true or false.\n"
      ]
    },
    {
      "cell_type": "code",
      "metadata": {
        "id": "qtdqIGG2h3Db"
      },
      "source": [
        "0.5 == (1/2)"
      ],
      "execution_count": null,
      "outputs": []
    },
    {
      "cell_type": "code",
      "metadata": {
        "id": "vojCYahyh3Np"
      },
      "source": [
        "1.233E2 == 123.3"
      ],
      "execution_count": null,
      "outputs": []
    },
    {
      "cell_type": "code",
      "metadata": {
        "id": "zR-Eg47xh3ev"
      },
      "source": [
        "5E-1 == (1/2)"
      ],
      "execution_count": null,
      "outputs": []
    },
    {
      "cell_type": "markdown",
      "metadata": {
        "id": "a7B414p_jKZq"
      },
      "source": [
        "When comparing a float to an int, the \"==\" operator will evaluate them based on value and the \"is\" operator will evaluate them based on value and object type. For \"is\" to be true, they must be the same value and object type. Evaluate the following expressions and determine whether they are true or false."
      ]
    },
    {
      "cell_type": "code",
      "metadata": {
        "id": "CJQ7zMwajKwx"
      },
      "source": [
        "5E2 == 500"
      ],
      "execution_count": null,
      "outputs": []
    },
    {
      "cell_type": "code",
      "metadata": {
        "id": "646M_VGZ4at1"
      },
      "source": [
        "1.23E2 == 123"
      ],
      "execution_count": null,
      "outputs": []
    },
    {
      "cell_type": "code",
      "metadata": {
        "id": "Tz18eAnk4o3g"
      },
      "source": [
        "1.0 == 1"
      ],
      "execution_count": null,
      "outputs": []
    },
    {
      "cell_type": "code",
      "metadata": {
        "id": "GlgCOjQ54o_g"
      },
      "source": [
        "(2/2)== 1"
      ],
      "execution_count": null,
      "outputs": []
    },
    {
      "cell_type": "code",
      "metadata": {
        "id": "eGgbKKem3yx9"
      },
      "source": [
        "5.0 is 5"
      ],
      "execution_count": null,
      "outputs": []
    },
    {
      "cell_type": "code",
      "metadata": {
        "id": "8I-54E2b3y-K"
      },
      "source": [
        "5.0 is 5.0"
      ],
      "execution_count": null,
      "outputs": []
    },
    {
      "cell_type": "code",
      "metadata": {
        "id": "JJCku0V95TCi"
      },
      "source": [
        "50E-1 is 5.0"
      ],
      "execution_count": null,
      "outputs": []
    },
    {
      "cell_type": "code",
      "metadata": {
        "id": "yvpzFus23NvT"
      },
      "source": [
        "5 is not 5.0"
      ],
      "execution_count": null,
      "outputs": []
    },
    {
      "cell_type": "code",
      "metadata": {
        "id": "riH3sM-w3ZkG"
      },
      "source": [
        "50E-1 is not 5.0"
      ],
      "execution_count": null,
      "outputs": []
    },
    {
      "cell_type": "code",
      "metadata": {
        "id": "ofEIUUbG6DaC"
      },
      "source": [
        "2.0**4"
      ],
      "execution_count": null,
      "outputs": []
    },
    {
      "cell_type": "code",
      "metadata": {
        "id": "siApK0SV6Dhd"
      },
      "source": [
        "2.0**4 is 16"
      ],
      "execution_count": null,
      "outputs": []
    },
    {
      "cell_type": "code",
      "metadata": {
        "id": "HvC10qxX6FdC"
      },
      "source": [
        "2.0**4 is 16.0"
      ],
      "execution_count": null,
      "outputs": []
    },
    {
      "cell_type": "markdown",
      "metadata": {
        "id": "v605VpzB6aH8"
      },
      "source": [
        "#Strings\n",
        "Strings in python are characters enclosed in quotes. Python treats single quotes the same as double quotes. A string can be a single character, a word, or a whole sentence. \n",
        "\n",
        "Evaluate the following expressions and determine whether they are true or false.\n",
        "\n",
        "Equal operator is case sensitive."
      ]
    },
    {
      "cell_type": "code",
      "metadata": {
        "id": "rnlggOys6ysw"
      },
      "source": [
        "\"Python\"==\"Python\""
      ],
      "execution_count": null,
      "outputs": []
    },
    {
      "cell_type": "code",
      "metadata": {
        "id": "mijkmNF26yzp"
      },
      "source": [
        "\"Python\"==\"python\""
      ],
      "execution_count": null,
      "outputs": []
    },
    {
      "cell_type": "code",
      "metadata": {
        "id": "2slZHv-C6y6J"
      },
      "source": [
        "\"Python\"!=\"python\""
      ],
      "execution_count": null,
      "outputs": []
    },
    {
      "cell_type": "markdown",
      "metadata": {
        "id": "lCTqKfgG7XD1"
      },
      "source": [
        "In Python, all characters(Letters both upper and lower case, numbers, and other characters like .!\") are assigned a value. See The ASCII table -> https://towardsdatascience.com/processing-text-with-unicode-in-python-eacc226886cb. The < > operators will evaluate the strings being compared  based on these values. See the code block below to see some of these values.\n"
      ]
    },
    {
      "cell_type": "code",
      "metadata": {
        "colab": {
          "base_uri": "https://localhost:8080/"
        },
        "id": "0Pkfi8HQ8QYp",
        "outputId": "40b87eff-376a-41e4-84f2-93ecf7589dee"
      },
      "source": [
        "'A value is', ord('A'), ',a value is', ord('a'), ',! value is', ord('!')"
      ],
      "execution_count": null,
      "outputs": [
        {
          "output_type": "execute_result",
          "data": {
            "text/plain": [
              "('A value is', 65, ',a value is', 97, ',! value is', 33)"
            ]
          },
          "metadata": {
            "tags": []
          },
          "execution_count": 183
        }
      ]
    },
    {
      "cell_type": "markdown",
      "metadata": {
        "id": "vso48LA0-_cF"
      },
      "source": [
        "Is ‘p’ greater than ‘P’?"
      ]
    },
    {
      "cell_type": "code",
      "metadata": {
        "id": "LdGPS_Hc_EKU"
      },
      "source": [
        "'python' > 'Python'"
      ],
      "execution_count": null,
      "outputs": []
    },
    {
      "cell_type": "code",
      "metadata": {
        "id": "4NSlB82F_EQ6"
      },
      "source": [
        "print('p value is', ord('p'), ',P value is', ord('P'))"
      ],
      "execution_count": null,
      "outputs": []
    },
    {
      "cell_type": "markdown",
      "metadata": {
        "id": "i6tVFgA__b-I"
      },
      "source": [
        "In Python, the lowercase letters are greater than the Uppercase.\n",
        "Numbers are less than letters and symbols are less than numbers.\n",
        "\n",
        "Symbols < Numbers < Uppercase  Letters < Lowercase Letters\n",
        "\n",
        "\n",
        "\n",
        "\n"
      ]
    },
    {
      "cell_type": "code",
      "metadata": {
        "id": "unYStOpxAAwE"
      },
      "source": [
        "'Python' > '0ython'"
      ],
      "execution_count": null,
      "outputs": []
    },
    {
      "cell_type": "code",
      "metadata": {
        "id": "OW94-4wRA13R"
      },
      "source": [
        "print('P value is', ord('P'), ',0 value is', ord('0'))"
      ],
      "execution_count": null,
      "outputs": []
    },
    {
      "cell_type": "code",
      "metadata": {
        "id": "FvDwm73TAYcw"
      },
      "source": [
        "'0ython' > '!ython'"
      ],
      "execution_count": null,
      "outputs": []
    },
    {
      "cell_type": "code",
      "metadata": {
        "id": "BJH44J42A0NL"
      },
      "source": [
        "print('0 value is', ord('0'), ',! value is', ord('!'))"
      ],
      "execution_count": null,
      "outputs": []
    },
    {
      "cell_type": "markdown",
      "metadata": {
        "id": "39XDKEGvE_I3"
      },
      "source": [
        "These values increase from A-Z & a-z so this lets users sort words alphabetically."
      ]
    },
    {
      "cell_type": "code",
      "metadata": {
        "id": "d9sP2v_8E_eH"
      },
      "source": [
        "\"Car\" < \"Python\""
      ],
      "execution_count": null,
      "outputs": []
    },
    {
      "cell_type": "code",
      "metadata": {
        "id": "vKPTHM3PE_mN"
      },
      "source": [
        "\"Truck\" < \"Car\""
      ],
      "execution_count": null,
      "outputs": []
    },
    {
      "cell_type": "code",
      "metadata": {
        "id": "DlvE5xLkE_to"
      },
      "source": [
        "\"Cat\" < \"Dog\""
      ],
      "execution_count": null,
      "outputs": []
    },
    {
      "cell_type": "markdown",
      "metadata": {
        "id": "_IS4ugTH__67"
      },
      "source": [
        "The < > operators use the first character in each string and if matching moves to next. "
      ]
    },
    {
      "cell_type": "code",
      "metadata": {
        "id": "dOZsI_DRF2MV"
      },
      "source": [
        "\"python\" > \"pythom\""
      ],
      "execution_count": null,
      "outputs": []
    },
    {
      "cell_type": "code",
      "metadata": {
        "id": "Q3kmWZeVHFQ1"
      },
      "source": [
        ""
      ],
      "execution_count": null,
      "outputs": []
    },
    {
      "cell_type": "markdown",
      "metadata": {
        "id": "bNmvoiegGVSO"
      },
      "source": [
        "If strings are the same except one has an additional character, then the larger length string is considered greater than the other one."
      ]
    },
    {
      "cell_type": "code",
      "metadata": {
        "id": "A0oyCxJvF2Uh"
      },
      "source": [
        "\"Pythonn\">\"Python\""
      ],
      "execution_count": null,
      "outputs": []
    },
    {
      "cell_type": "markdown",
      "metadata": {
        "id": "UY7CI0U1DOR4"
      },
      "source": [
        "What will the following code block output be in terms of true, false? Note that this will output two boolean values, one for each expression contained in print. "
      ]
    },
    {
      "cell_type": "code",
      "metadata": {
        "id": "7LCT9jnmGekO"
      },
      "source": [
        "str1 = 'abc'\n",
        "str2 = 'abc'\n",
        "print(str1 == str2)\n",
        "print(str1 is str2)"
      ],
      "execution_count": null,
      "outputs": []
    },
    {
      "cell_type": "markdown",
      "metadata": {
        "id": "SOYOCJSkGxA-"
      },
      "source": [
        "#Using the Logical Operators\n",
        "These operators include and,or,not. Each of these has a unique way of evaluating expressions. Evaluate the following expressions and determine whether they are true or false.\n",
        "\n",
        "**or**\n",
        "\n",
        "Returns true if at least one statement is true.\n"
      ]
    },
    {
      "cell_type": "code",
      "metadata": {
        "id": "IoeMqPqUJyUM"
      },
      "source": [
        "(5==5) or (7==3)"
      ],
      "execution_count": null,
      "outputs": []
    },
    {
      "cell_type": "code",
      "metadata": {
        "id": "6bwpZLg5JycD"
      },
      "source": [
        "(5==5) or (7==3) or (2==1)"
      ],
      "execution_count": null,
      "outputs": []
    },
    {
      "cell_type": "markdown",
      "metadata": {
        "id": "1r1UfNiYKLt7"
      },
      "source": [
        "**and**\n",
        "\n",
        "Returns true only if both statements are true."
      ]
    },
    {
      "cell_type": "code",
      "metadata": {
        "id": "QfpscwT2KHST"
      },
      "source": [
        "(5==5) and (7==3)"
      ],
      "execution_count": null,
      "outputs": []
    },
    {
      "cell_type": "markdown",
      "metadata": {
        "id": "whFDWcF3LYD8"
      },
      "source": [
        "**not**\n",
        "\n",
        "The not operator evaluates the expression as being NOT true."
      ]
    },
    {
      "cell_type": "code",
      "metadata": {
        "id": "iy8Rzmi6Ler8"
      },
      "source": [
        "not (7==3)"
      ],
      "execution_count": null,
      "outputs": []
    },
    {
      "cell_type": "markdown",
      "metadata": {
        "id": "c8JE1S64NOTp"
      },
      "source": [
        "not can be used as opposite of is operator. "
      ]
    },
    {
      "cell_type": "code",
      "metadata": {
        "id": "Z4l_p87oMpxg"
      },
      "source": [
        "5 is not 5.0"
      ],
      "execution_count": null,
      "outputs": []
    },
    {
      "cell_type": "code",
      "metadata": {
        "id": "pT-Y1a1LOGZ9"
      },
      "source": [
        "(2==2) is not (2==3)"
      ],
      "execution_count": null,
      "outputs": []
    },
    {
      "cell_type": "markdown",
      "metadata": {
        "id": "tQFHzn7YKo37"
      },
      "source": [
        "**Combine the logical operators**\n",
        "\n"
      ]
    },
    {
      "cell_type": "markdown",
      "metadata": {
        "id": "WMClb4bHOcqM"
      },
      "source": [
        "When evaluating the expression, **or** comes before **and**, and **not** is last."
      ]
    },
    {
      "cell_type": "code",
      "metadata": {
        "id": "gb6WLNrGOpgQ"
      },
      "source": [
        "(5==5) and (7==3) or (5.0==5.0)"
      ],
      "execution_count": null,
      "outputs": []
    },
    {
      "cell_type": "code",
      "metadata": {
        "id": "wBT_SvsZL2mo"
      },
      "source": [
        "(5==5) and (7==3) or (5.0==5.0) and 5 is not 6"
      ],
      "execution_count": null,
      "outputs": []
    },
    {
      "cell_type": "code",
      "metadata": {
        "id": "AnyJx862OgHJ"
      },
      "source": [
        "(5==5) and (7==3) or (5.0==5.0) and 5 is not 5"
      ],
      "execution_count": null,
      "outputs": []
    },
    {
      "cell_type": "markdown",
      "metadata": {
        "id": "WgV5euDXPGh-"
      },
      "source": [
        "##List\n",
        "\n",
        "A list is a object(data structure) that can hold a collection of items. List have these attributes:\n",
        "\n",
        "**Ordered** - which lets you access any item via index.\n",
        "\n",
        "**Mutable** - which means you can add or remove items after a list's creation.\n",
        "\n",
        "**More than one data type possible** - which means a single list can contain strings, ints, floats, and other objects. "
      ]
    },
    {
      "cell_type": "markdown",
      "metadata": {
        "id": "6HRO-PXARXh7"
      },
      "source": [
        "List are contained in [ ] with items separated by , \n",
        "\n",
        "```\n",
        "[1,2,3,4]\n",
        "```\n",
        "Evaluate the following expressions and determine whether they are true or false."
      ]
    },
    {
      "cell_type": "code",
      "metadata": {
        "id": "E4FXqiRjR47V"
      },
      "source": [
        "[1]==[1]"
      ],
      "execution_count": null,
      "outputs": []
    },
    {
      "cell_type": "code",
      "metadata": {
        "id": "yrwVXou-SETm"
      },
      "source": [
        "[1]==[2]"
      ],
      "execution_count": null,
      "outputs": []
    },
    {
      "cell_type": "code",
      "metadata": {
        "id": "eWV-g2PVScZg"
      },
      "source": [
        "[\"Bird\",\"Cat\"] == [\"Bird\",\"Dog\"]"
      ],
      "execution_count": null,
      "outputs": []
    },
    {
      "cell_type": "code",
      "metadata": {
        "id": "vdHJXQmFTZ87"
      },
      "source": [
        "List1 = [\"Monkey\",\"Mouse\",\"Hamster\"]\n",
        "List2 = [\"Dog\",\"Cat\",\"Rabbit\"]\n",
        "List1 == List2"
      ],
      "execution_count": null,
      "outputs": []
    },
    {
      "cell_type": "markdown",
      "metadata": {
        "id": "T5ZQhMp8SQUi"
      },
      "source": [
        "When using the \"is\" operator, even though list may look identical, they are not. Here you can see that both list refer to objects that are equal, but they do not refer to the same object. They both have distinct identities. However, the \"==\" operator will treat them as equal since its only looking at the values at each index. To make them equal with \"is\" you must assign both list to the same objects."
      ]
    },
    {
      "cell_type": "code",
      "metadata": {
        "id": "494zWs44S7xB"
      },
      "source": [
        "List1 = [\"Monkey\",\"Mouse\",\"Hamster\"]\n",
        "List2 = [\"Monkey\",\"Mouse\",\"Hamster\"]\n",
        "print(List1 == List2)\n",
        "print(List1 is List2)\n",
        "\n",
        "\n",
        "List1 = List2\n",
        "print(List1 is List2)"
      ],
      "execution_count": null,
      "outputs": []
    },
    {
      "cell_type": "markdown",
      "metadata": {
        "id": "AAuM9sSTT5I_"
      },
      "source": [
        "Membership test operator \"in\" can be used on list objects to see whether a list contains a certain object."
      ]
    },
    {
      "cell_type": "code",
      "metadata": {
        "id": "n2KHVh5VUpqA"
      },
      "source": [
        "List = [1,2,3,4]\n",
        "print(5 in List)\n",
        "print(4 in List)"
      ],
      "execution_count": null,
      "outputs": []
    },
    {
      "cell_type": "code",
      "metadata": {
        "id": "rQO_Lw-3UxWJ"
      },
      "source": [
        "List = [1,2,3,4,\"Dog\"]\n",
        "\"Dog\" in List"
      ],
      "execution_count": null,
      "outputs": []
    },
    {
      "cell_type": "markdown",
      "metadata": {
        "id": "ZOijk_5j6jEK"
      },
      "source": [
        "##bool\n",
        "\n",
        "Any variable in python can be mapped to a True or False value using the constructor function bool. bool takes any python value and return corresponding True or False value. 0, empty collections, None and False have False values. Most other values are True. Evaluate the following expressions and determine whether they are true or false.\n",
        "\n"
      ]
    },
    {
      "cell_type": "code",
      "metadata": {
        "id": "_JdZg6sQWTfC"
      },
      "source": [
        "bool(True)"
      ],
      "execution_count": null,
      "outputs": []
    },
    {
      "cell_type": "code",
      "metadata": {
        "id": "r1h77dPeWTnU"
      },
      "source": [
        "bool(False)"
      ],
      "execution_count": null,
      "outputs": []
    },
    {
      "cell_type": "code",
      "metadata": {
        "id": "Ph-C14TcWTu8"
      },
      "source": [
        "bool(1)"
      ],
      "execution_count": null,
      "outputs": []
    },
    {
      "cell_type": "code",
      "metadata": {
        "id": "ywJeSqUgWT2D"
      },
      "source": [
        "bool(0)"
      ],
      "execution_count": null,
      "outputs": []
    },
    {
      "cell_type": "code",
      "metadata": {
        "id": "EMEgrzrOWT8v"
      },
      "source": [
        "bool([])"
      ],
      "execution_count": null,
      "outputs": []
    },
    {
      "cell_type": "code",
      "metadata": {
        "id": "L9hsDipNWUDN"
      },
      "source": [
        "bool([False])"
      ],
      "execution_count": null,
      "outputs": []
    },
    {
      "cell_type": "code",
      "metadata": {
        "id": "9NK4sXcdWUJ3"
      },
      "source": [
        "bool(\"False\")"
      ],
      "execution_count": null,
      "outputs": []
    },
    {
      "cell_type": "code",
      "metadata": {
        "id": "IbIA3AjXWUQp"
      },
      "source": [
        "bool({})"
      ],
      "execution_count": null,
      "outputs": []
    },
    {
      "cell_type": "code",
      "metadata": {
        "id": "RCgGuADsWUWL"
      },
      "source": [
        "bool(())"
      ],
      "execution_count": null,
      "outputs": []
    },
    {
      "cell_type": "code",
      "metadata": {
        "id": "yricSyD4WUco"
      },
      "source": [
        "bool(\"\")"
      ],
      "execution_count": null,
      "outputs": []
    },
    {
      "cell_type": "code",
      "metadata": {
        "id": "d6fCNEjZWUie"
      },
      "source": [
        "bool(None)"
      ],
      "execution_count": null,
      "outputs": []
    },
    {
      "cell_type": "code",
      "metadata": {
        "id": "LrZjrMwYWUop"
      },
      "source": [
        "bool([\"\"])"
      ],
      "execution_count": null,
      "outputs": []
    },
    {
      "cell_type": "code",
      "metadata": {
        "id": "hzD2J8SLWUvc"
      },
      "source": [
        "bool((\"\"))"
      ],
      "execution_count": null,
      "outputs": []
    },
    {
      "cell_type": "markdown",
      "metadata": {
        "id": "DAkq3x6HVNdM"
      },
      "source": [
        "##Additional problems for fun!!\n",
        "\n",
        "\n"
      ]
    },
    {
      "cell_type": "code",
      "metadata": {
        "id": "2KYjvv0QJjJM"
      },
      "source": [
        "'a'=='a'"
      ],
      "execution_count": null,
      "outputs": []
    },
    {
      "cell_type": "code",
      "metadata": {
        "id": "Pjmj6uXHJjJM"
      },
      "source": [
        "2!=2"
      ],
      "execution_count": null,
      "outputs": []
    },
    {
      "cell_type": "code",
      "metadata": {
        "id": "fj4IuV-GJjJN"
      },
      "source": [
        "2>-100"
      ],
      "execution_count": null,
      "outputs": []
    },
    {
      "cell_type": "code",
      "metadata": {
        "id": "pwSgDStmJjJN",
        "outputId": "de87592f-8ccf-4c6b-f31e-3d8d2d89355d"
      },
      "source": [
        "3>=3"
      ],
      "execution_count": null,
      "outputs": [
        {
          "output_type": "execute_result",
          "data": {
            "text/plain": [
              "True"
            ]
          },
          "metadata": {
            "tags": []
          },
          "execution_count": 5
        }
      ]
    },
    {
      "cell_type": "code",
      "metadata": {
        "id": "tsvAqJhGJjJO",
        "outputId": "96957ea4-33cc-4b9b-b2cf-c8d3f9985d32"
      },
      "source": [
        "5<8"
      ],
      "execution_count": null,
      "outputs": [
        {
          "output_type": "execute_result",
          "data": {
            "text/plain": [
              "True"
            ]
          },
          "metadata": {
            "tags": []
          },
          "execution_count": 6
        }
      ]
    },
    {
      "cell_type": "code",
      "metadata": {
        "id": "ArYs0oy_JjJP",
        "outputId": "e6f61e4c-4670-4678-f365-0ccf2b1e50ee"
      },
      "source": [
        "5<=8"
      ],
      "execution_count": null,
      "outputs": [
        {
          "output_type": "execute_result",
          "data": {
            "text/plain": [
              "True"
            ]
          },
          "metadata": {
            "tags": []
          },
          "execution_count": 7
        }
      ]
    },
    {
      "cell_type": "code",
      "metadata": {
        "id": "fB1IarlGJjJQ",
        "colab": {
          "base_uri": "https://localhost:8080/"
        },
        "outputId": "a4320232-8135-46c6-a2a0-fc2a2feaf6e6"
      },
      "source": [
        "x=['1','2']\n",
        "y=['1','2']\n",
        "x is y\n"
      ],
      "execution_count": null,
      "outputs": [
        {
          "output_type": "execute_result",
          "data": {
            "text/plain": [
              "False"
            ]
          },
          "metadata": {
            "tags": []
          },
          "execution_count": 105
        }
      ]
    },
    {
      "cell_type": "code",
      "metadata": {
        "id": "t2pGudKeJjJQ"
      },
      "source": [
        "y=x\n"
      ],
      "execution_count": null,
      "outputs": []
    },
    {
      "cell_type": "code",
      "metadata": {
        "id": "CZW6j9AZJjJR",
        "outputId": "2f088d9e-a1d9-42df-8b7b-fa84b2be9c3b"
      },
      "source": [
        "x is y"
      ],
      "execution_count": null,
      "outputs": [
        {
          "output_type": "execute_result",
          "data": {
            "text/plain": [
              "True"
            ]
          },
          "metadata": {
            "tags": []
          },
          "execution_count": 10
        }
      ]
    },
    {
      "cell_type": "code",
      "metadata": {
        "id": "KYk99YN8JjJR"
      },
      "source": [
        "str1 = 'abc'\n",
        "str2= 'abc'"
      ],
      "execution_count": null,
      "outputs": []
    },
    {
      "cell_type": "code",
      "metadata": {
        "id": "RmKmeVGPJjJR",
        "outputId": "c080ba22-a505-4b12-f7f0-f1c04852fda5"
      },
      "source": [
        "str1 == str2"
      ],
      "execution_count": null,
      "outputs": [
        {
          "output_type": "execute_result",
          "data": {
            "text/plain": [
              "True"
            ]
          },
          "metadata": {
            "tags": []
          },
          "execution_count": 12
        }
      ]
    },
    {
      "cell_type": "code",
      "metadata": {
        "id": "mnnx6gUNJjJS",
        "outputId": "db56439a-0d36-4fc3-a80a-6eae02d8753e"
      },
      "source": [
        "str1 is str2"
      ],
      "execution_count": null,
      "outputs": [
        {
          "output_type": "execute_result",
          "data": {
            "text/plain": [
              "True"
            ]
          },
          "metadata": {
            "tags": []
          },
          "execution_count": 13
        }
      ]
    },
    {
      "cell_type": "code",
      "metadata": {
        "id": "fB1lSxrvJjJS",
        "outputId": "328a4e58-8712-4618-d43a-bf601a7ddc7a"
      },
      "source": [
        "2 in [1,2,3]"
      ],
      "execution_count": null,
      "outputs": [
        {
          "output_type": "execute_result",
          "data": {
            "text/plain": [
              "True"
            ]
          },
          "metadata": {
            "tags": []
          },
          "execution_count": 14
        }
      ]
    },
    {
      "cell_type": "code",
      "metadata": {
        "id": "u4-XkDXQJjJT",
        "outputId": "715a1abe-0d2b-4ca4-9166-b0edf81bdc86"
      },
      "source": [
        "1<2 and 1<3"
      ],
      "execution_count": null,
      "outputs": [
        {
          "output_type": "execute_result",
          "data": {
            "text/plain": [
              "True"
            ]
          },
          "metadata": {
            "tags": []
          },
          "execution_count": 15
        }
      ]
    },
    {
      "cell_type": "code",
      "metadata": {
        "id": "jbxN9wLsJjJT",
        "outputId": "5c49f460-c1ac-417f-835d-0a5f8b157693"
      },
      "source": [
        "1<2 or 2>3"
      ],
      "execution_count": null,
      "outputs": [
        {
          "output_type": "execute_result",
          "data": {
            "text/plain": [
              "True"
            ]
          },
          "metadata": {
            "tags": []
          },
          "execution_count": 16
        }
      ]
    },
    {
      "cell_type": "code",
      "metadata": {
        "id": "28MoGOnWJjJU",
        "outputId": "25d8d0a1-d2be-403e-d94a-de845aa4156d"
      },
      "source": [
        "not 1<2"
      ],
      "execution_count": null,
      "outputs": [
        {
          "output_type": "execute_result",
          "data": {
            "text/plain": [
              "False"
            ]
          },
          "metadata": {
            "tags": []
          },
          "execution_count": 17
        }
      ]
    }
  ]
}