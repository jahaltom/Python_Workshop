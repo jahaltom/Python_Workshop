{
  "nbformat": 4,
  "nbformat_minor": 0,
  "metadata": {
    "kernelspec": {
      "display_name": "Python 3",
      "language": "python",
      "name": "python3"
    },
    "language_info": {
      "codemirror_mode": {
        "name": "ipython",
        "version": 3
      },
      "file_extension": ".py",
      "mimetype": "text/x-python",
      "name": "python",
      "nbconvert_exporter": "python",
      "pygments_lexer": "ipython3",
      "version": "3.6.5"
    },
    "colab": {
      "name": "Copy of Copy of 4_Classes.ipynb",
      "provenance": [],
      "collapsed_sections": [],
      "include_colab_link": true
    }
  },
  "cells": [
    {
      "cell_type": "markdown",
      "metadata": {
        "id": "view-in-github",
        "colab_type": "text"
      },
      "source": [
        "<a href=\"https://colab.research.google.com/github/jahaltom/Python_Workshop/blob/main/4_Classes.ipynb\" target=\"_parent\"><img src=\"https://colab.research.google.com/assets/colab-badge.svg\" alt=\"Open In Colab\"/></a>"
      ]
    },
    {
      "cell_type": "markdown",
      "metadata": {
        "id": "cnOCU_FlWvSp"
      },
      "source": [
        "<h1><center>Classes</center></h1>\n",
        "## Introduction\n",
        "\n",
        "Bellow is an illistration of a simple class.\n",
        "\n",
        "```\n",
        "class ClassA\n",
        "    statementA\n",
        "    statementB\n",
        "    statementC\n",
        "    .\n",
        "    .\n",
        "    .\n",
        "    statementN\n",
        " \n",
        "```"
      ]
    },
    {
      "cell_type": "markdown",
      "metadata": {
        "id": "d50GTTdjcl8E"
      },
      "source": [
        "Just as def statments must be executed before they have an effect, so to must class definitins. Most of the time the statments in a class definition will be function definitions but other statments are allowed too. "
      ]
    },
    {
      "cell_type": "code",
      "metadata": {
        "id": "eONF5ZHiclWQ"
      },
      "source": [
        "class FirstClass:\n",
        "    i = 123 \n",
        "    s = \"ABC\"\n",
        "    def first(self):\n",
        "        return 'This is my first Python class!!!'\n"
      ],
      "execution_count": null,
      "outputs": []
    },
    {
      "cell_type": "markdown",
      "metadata": {
        "id": "iD2aaciqed6c"
      },
      "source": [
        "There are three attributes that can be called on in this class once the class object has been created. To create the class object, you simply assign a variable to the ClassName and include () at the end, similar to calling on a function. Below the FirstClass object is created and assigned to x. You can also say that an instance of the class has been created. To call on any of the 3 attributes, simlpy reference them as x.i,x.s,x.f. Note that x.f alone returns a method. To call that method, you must write x.f()."
      ]
    },
    {
      "cell_type": "code",
      "metadata": {
        "id": "RnzY1HPxeeHX",
        "colab": {
          "base_uri": "https://localhost:8080/"
        },
        "outputId": "b6af8d82-4159-4731-8a67-6cb55ed7febf"
      },
      "source": [
        "x = FirstClass()\n",
        "print(x.i,x.s,x.first)\n",
        "print(x.first())"
      ],
      "execution_count": null,
      "outputs": [
        {
          "output_type": "stream",
          "text": [
            "123 ABC <bound method FirstClass.first of <__main__.FirstClass object at 0x7f04242e0110>>\n",
            "This is my first Python class!!!\n"
          ],
          "name": "stdout"
        }
      ]
    },
    {
      "cell_type": "markdown",
      "metadata": {
        "id": "gdB5iuvypwEq"
      },
      "source": [
        "Attributes in a class may be changed after an instance of the class has been created. This will have a permenant effect on a class."
      ]
    },
    {
      "cell_type": "code",
      "metadata": {
        "colab": {
          "base_uri": "https://localhost:8080/"
        },
        "id": "FMMvLGUdpwfm",
        "outputId": "7fac3fc0-b393-4f43-cd03-28f1ee030c7a"
      },
      "source": [
        "class FirstClass:\n",
        "    i = 123 \n",
        "    s = \"ABC\"\n",
        "    def first(self):\n",
        "        return 'This is my first Python class!!!'\n",
        "\n",
        "\n",
        "x = FirstClass()\n",
        "print(x.i)\n",
        "FirstClass.i = 2\n",
        "print(x.i)\n",
        "\n",
        "x = FirstClass()\n",
        "print(x.i)"
      ],
      "execution_count": null,
      "outputs": [
        {
          "output_type": "stream",
          "text": [
            "123\n",
            "2\n",
            "2\n"
          ],
          "name": "stdout"
        }
      ]
    },
    {
      "cell_type": "markdown",
      "metadata": {
        "id": "3QITW_AXdMmg"
      },
      "source": [
        "When a class is instantiated, the object is empty. However, classes can be created to be at a spefific inital state once instantiated by using a special method nammed \\_init_()\\. If a class such as this is instantiated, then \\_inin_\\() is automaticly invloked. "
      ]
    },
    {
      "cell_type": "code",
      "metadata": {
        "id": "k_ikEPTtlQpw"
      },
      "source": [
        "class SpecialClass:\n",
        "  def __init__(self):\n",
        "    print(\"Hello\")\n",
        "\n",
        "x= SpecialClass()"
      ],
      "execution_count": null,
      "outputs": []
    },
    {
      "cell_type": "markdown",
      "metadata": {
        "id": "_WM_1yJbmKvh"
      },
      "source": [
        "Arguments can be supplied to \\__init__\\ and are givin when instantiating the class. "
      ]
    },
    {
      "cell_type": "code",
      "metadata": {
        "id": "ox9agFL1WvSw"
      },
      "source": [
        "class SpecialClass:\n",
        "  def __init__(self, first_name, last_name, age):\n",
        "    self.f = first_name\n",
        "    self.l = last_name\n",
        "    self.a = age\n",
        "    \n",
        "x = SpecialClass(\"First\", \"Last\",\"age\")\n",
        "print(x.f, x.l,x.a)"
      ],
      "execution_count": null,
      "outputs": []
    },
    {
      "cell_type": "markdown",
      "metadata": {
        "id": "2FpozM8NrAar"
      },
      "source": [
        "When you create an instance variables(x,y), the (first_name, last_name, age) are unique for each instance. However, class attributes(info) and methods shared by all instances of the class. If the code below is executed, info will store values in a way that is shared by all instances. Which is something we want to avoid in this case."
      ]
    },
    {
      "cell_type": "code",
      "metadata": {
        "colab": {
          "base_uri": "https://localhost:8080/"
        },
        "id": "Z3ZXO6DwsFu8",
        "outputId": "e59540d2-f56a-46a0-fc56-4cc57935779c"
      },
      "source": [
        "class SpecialClass:\n",
        "  info=[]\n",
        "  def __init__(self, first_name, last_name, age):\n",
        "    self.f = first_name\n",
        "    self.l = last_name\n",
        "    self.a = age\n",
        "  def add_info(self, info):\n",
        "    self.info.append(info)\n",
        "\n",
        "x = SpecialClass(\"John\", \"Smith\",\"32\")\n",
        "y = SpecialClass(\"Jeff\", \"Haltom\",\"29\")\n",
        "x.add_info(\"USA\")\n",
        "x.add_info(\"Iowa\")\n",
        "y.add_info(\"Canada\")\n",
        "\n",
        "\n",
        "print(x.f, x.l,x.a,x.info)\n",
        "print(y.f, y.l,y.a,y.info)\n"
      ],
      "execution_count": null,
      "outputs": [
        {
          "output_type": "stream",
          "text": [
            "John Smith 32 ['USA', 'Iowa', 'Canada']\n",
            "Jeff Haltom 29 ['USA', 'Iowa', 'Canada']\n"
          ],
          "name": "stdout"
        }
      ]
    },
    {
      "cell_type": "markdown",
      "metadata": {
        "id": "ltOPGcLM4nPi"
      },
      "source": [
        "To fix this, simply make sre each instance gets its own info variable. "
      ]
    },
    {
      "cell_type": "code",
      "metadata": {
        "colab": {
          "base_uri": "https://localhost:8080/"
        },
        "id": "hEC2I0NA4nb-",
        "outputId": "f991f5f9-d1c6-4aef-a1a5-413c925a5e1b"
      },
      "source": [
        "class SpecialClass:\n",
        "  def __init__(self, first_name, last_name, age):\n",
        "    self.f = first_name\n",
        "    self.l = last_name\n",
        "    self.a = age\n",
        "    self.info=[]\n",
        "  def add_info(self, info):\n",
        "    self.info.append(info)\n",
        "\n",
        "x = SpecialClass(\"John\", \"Smith\",\"32\")\n",
        "y = SpecialClass(\"Jeff\", \"Haltom\",\"29\")\n",
        "x.add_info(\"USA\")\n",
        "x.add_info(\"Iowa\")\n",
        "y.add_info(\"Canada\")\n",
        "\n",
        "\n",
        "print(x.f, x.l,x.a,x.info)\n",
        "print(y.f, y.l,y.a,y.info)\n"
      ],
      "execution_count": null,
      "outputs": [
        {
          "output_type": "stream",
          "text": [
            "John Smith 32 ['USA', 'Iowa']\n",
            "Jeff Haltom 29 ['Canada']\n"
          ],
          "name": "stdout"
        }
      ]
    },
    {
      "cell_type": "markdown",
      "metadata": {
        "id": "30A9Fqjj5JTP"
      },
      "source": [
        "Just like attributes in a class may be changed after an instance of the class has been created, making a permamant change, there is a way to make the change for only a specific instance. "
      ]
    },
    {
      "cell_type": "code",
      "metadata": {
        "colab": {
          "base_uri": "https://localhost:8080/"
        },
        "id": "ab4K4tc60z1_",
        "outputId": "759f6cbf-a197-45be-e82a-791daeebbe2a"
      },
      "source": [
        "class FirstClass:\n",
        "    i = 123 \n",
        "    s = \"ABC\"\n",
        "    def first(self):\n",
        "        return 'This is my first Python class!!!'\n",
        "\n",
        "x = FirstClass()\n",
        "y = FirstClass()\n",
        "y.i = 321\n",
        "print(x.i)\n",
        "print(y.i)\n",
        "\n",
        "##Permanent change for only x because that used the main method, y has a uique modified version. \n",
        "FirstClass.i = 0\n",
        "print(x.i)\n",
        "print(y.i)\n",
        "\n",
        "#Permanent for both\n",
        "y = FirstClass()\n",
        "print(y.i)\n",
        "print(x.i)\n",
        "\n"
      ],
      "execution_count": null,
      "outputs": [
        {
          "output_type": "stream",
          "text": [
            "123\n",
            "321\n",
            "0\n",
            "321\n",
            "0\n",
            "0\n"
          ],
          "name": "stdout"
        }
      ]
    },
    {
      "cell_type": "markdown",
      "metadata": {
        "id": "OowWBo9S9AIq"
      },
      "source": [
        "##Inheritance"
      ]
    },
    {
      "cell_type": "code",
      "metadata": {
        "id": "a-J_82F5OPux"
      },
      "source": [
        "class SeqToolKit:\n",
        "  def fastq2fasta(self,fastq_file):\n",
        "    fastq = open(fastq_file, \"r\")\n",
        "    output= fastq_file[:-1]+\"a\"\n",
        "    fasta=open(output, \"w\")\n",
        "    for line in fastq:\n",
        "      if line.startswith(\"@\"):\n",
        "        fasta.write(line.replace(\" \",\"_\").replace(\"@\",\">\"))\n",
        "        fasta.write(next(fastq, '').strip())\n",
        "        fasta.write('\\n')\n",
        "    fasta.close()\n",
        "\n",
        "  def getGC(self,seq):\n",
        "    C=0\n",
        "    G=0\n",
        "    for i in seq:\n",
        "      if i == \"C\":\n",
        "        C=C+1\n",
        "      elif i == \"G\":\n",
        "        G=G+1\n",
        "\n",
        "    #Calculate GC content\n",
        "    GC=((G+C)/len(seq)*100)\n",
        "\n",
        "    #Print to 4 sig figs.\n",
        "    return (\"The GC content is \" + (\"%.4g\" % GC) + \"%\")\n",
        "\n"
      ],
      "execution_count": 39,
      "outputs": []
    },
    {
      "cell_type": "code",
      "metadata": {
        "id": "mOYkmBwOf-nF"
      },
      "source": [
        "class Average:\n",
        "    def get_average(self,list):\n",
        "      x=0\n",
        "      for i in list:\n",
        "        x=x+i\n",
        "      return (x/len(list))"
      ],
      "execution_count": 40,
      "outputs": []
    },
    {
      "cell_type": "code",
      "metadata": {
        "id": "R-1Jroj7v-ep"
      },
      "source": [
        "class Largest:\n",
        "               \n",
        "  def get_largest(self,list):    \n",
        "    largest=list[0]\n",
        "    count=0\n",
        "    nonlocal index\n",
        "    index=1\n",
        "    for i in list:\n",
        "      count=count+1\n",
        "      if i > largest:\n",
        "        largest=i\n",
        "        index=count-1\n",
        "    return (\"The largest number is \" + str(largest))\n"
      ],
      "execution_count": 91,
      "outputs": []
    },
    {
      "cell_type": "code",
      "metadata": {
        "id": "rYlGALREv-l4"
      },
      "source": [
        "class Smallest:\n",
        "\n",
        "  def get_smallest(self,list):    \n",
        "    smallest=list[0]\n",
        "    count=0\n",
        "    global index\n",
        "    index=1\n",
        "    for i in list:\n",
        "      count=count+1\n",
        "      if i < smallest:\n",
        "        smallest=i\n",
        "        index=count-1\n",
        "    return (\"The smallest number is \" + str(smallest)) \n",
        "\n",
        "   \n"
      ],
      "execution_count": 100,
      "outputs": []
    },
    {
      "cell_type": "markdown",
      "metadata": {
        "id": "xGsK_c19dLIj"
      },
      "source": [
        "Use inheritance to make a class that can output the GC content of each scaffold in a fasta. Hint:use getGC from SeqToolKit"
      ]
    },
    {
      "cell_type": "code",
      "metadata": {
        "id": "T6_jjrdZ8-WP"
      },
      "source": [
        "class FastaToolKit(SeqToolKit, Average, Largest, Smallest):\n",
        "     \n",
        "      def __init__(self):\n",
        "         super().__init__()       \n",
        "      def get_gc_all(self,file):\n",
        "          fastq = open(file, \"r\")    \n",
        "          for line in fastq:\n",
        "            if line.startswith(\">\"):           \n",
        "              print(line + self.getGC(next(fastq, '').strip()))\n",
        "              \n",
        "      def gc_stats(self,file):\n",
        "          list=[]\n",
        "          scaffolds=[]         \n",
        "          fastq = open(file, \"r\") \n",
        "          for line in fastq:\n",
        "            if line.startswith(\">\"):             \n",
        "               scaffolds.append(line)                \n",
        "               list.append(float((self.getGC(next(fastq, '').strip())).replace(\"The GC content is \",'').replace('%','')))                     \n",
        "          print(\"The average GC content is \" + str(self.get_average(list)) + \"%\")\n",
        "          print(\"The scaffold with the smallest GC content is \"  + self.get_smallest(list).replace(\"The smallest number is \",'') + \"% at \"+ scaffolds[index])\n",
        "          print(\"The scaffold with the largest GC content is \" +  self.get_largest(list).replace(\"The largest number is \",'') + \"% at \"+ scaffolds[index])\n",
        "\n",
        "       \n",
        "\n",
        "\n",
        "#SeqToolKit.fastq2fasta(\"COVID-19.fastq\")      \n",
        "x = FastaToolKit()\n",
        "x.get_gc_all(\"COVID-19.fasta\")\n",
        "print('\\n')\n",
        "x.gc_stats(\"COVID-19.fasta\")\n",
        "\n"
      ],
      "execution_count": null,
      "outputs": []
    }
  ]
}