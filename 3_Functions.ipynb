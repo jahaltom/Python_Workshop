{
  "nbformat": 4,
  "nbformat_minor": 0,
  "metadata": {
    "kernelspec": {
      "display_name": "Python 3",
      "language": "python",
      "name": "python3"
    },
    "language_info": {
      "codemirror_mode": {
        "name": "ipython",
        "version": 3
      },
      "file_extension": ".py",
      "mimetype": "text/x-python",
      "name": "python",
      "nbconvert_exporter": "python",
      "pygments_lexer": "ipython3",
      "version": "3.6.5"
    },
    "colab": {
      "name": "Copy of Copy of 3_Functions.ipynb",
      "provenance": [],
      "collapsed_sections": [],
      "include_colab_link": true
    }
  },
  "cells": [
    {
      "cell_type": "markdown",
      "metadata": {
        "id": "view-in-github",
        "colab_type": "text"
      },
      "source": [
        "<a href=\"https://colab.research.google.com/github/jahaltom/Python_Workshop/blob/main/3_Functions.ipynb\" target=\"_parent\"><img src=\"https://colab.research.google.com/assets/colab-badge.svg\" alt=\"Open In Colab\"/></a>"
      ]
    },
    {
      "cell_type": "markdown",
      "metadata": {
        "id": "uCNSoykfUATN"
      },
      "source": [
        "<h1><center>Functions</center></h1>\n",
        "\n",
        "##Introduction\n",
        "\n",
        "Functions allow to group several  statements together is a code block. This code block can then be called from anywhere in the program as required. Functions allows to create modular code which is easy to reuse. Functions can also take several parameters. The value calculated by the function then depends on the parameters supplied at the time of function call. Depending on the function type and definition, a function can return a value of different types. A function returns a value if a *return* statement is included at the end of the function body. If a *return* statement is missing from the function body the function by default returns *None*.\n",
        "\n",
        "In python a function is defined using *def* statement. The general syntax of a function named *functionA* with *N* parameters looks like\n",
        "\n",
        "```\n",
        "def functionA(parameter1,paramenter2,...,parameterN):\n",
        "    statementA\n",
        "    statementB\n",
        "    statementC\n",
        "    .\n",
        "    .\n",
        "    .\n",
        "    statementN\n",
        "    return returnValue\n",
        "```"
      ]
    },
    {
      "cell_type": "code",
      "metadata": {
        "id": "U4GhA3lrUATR"
      },
      "source": [
        "#this function takes no argument, returns None\n",
        "def printWelcome():\n",
        "    print (\"Hi, Welcome!\")\n",
        "#this function takes no argument, returns a str object\n",
        "def getName():\n",
        "    name=input(\"Please Enter your name: \")\n",
        "    return name\n",
        "#this function takes a str object, returns None\n",
        "def printMessage(name):\n",
        "    print (\"How are you, \"+name)\n",
        "#this function takes no argument, returns None\n",
        "def printGoodbye():\n",
        "    print (\"Goodbye...\")\n",
        "\n",
        "\n",
        "\n",
        "\n",
        "#####Call the functions######\n",
        "printWelcome()\n",
        "user=getName()\n",
        "printMessage(user)\n",
        "printGoodbye()"
      ],
      "execution_count": null,
      "outputs": []
    },
    {
      "cell_type": "markdown",
      "metadata": {
        "id": "KeM0x37ZUATT"
      },
      "source": [
        "## Lambda functions\n",
        "Lambda functions are anonymous functions which are defined without a name. They are defined using the keyword *lambda* and can take any number of arguments. Lambda functions can be quickly passed on to functions as arguments or can be used inside other functions."
      ]
    },
    {
      "cell_type": "code",
      "metadata": {
        "id": "0fz6wr9WUATU"
      },
      "source": [
        "#define a lambda function to add 10\n",
        "\n",
        "add10=lambda x: x+10\n",
        "print(add10(2))"
      ],
      "execution_count": null,
      "outputs": []
    },
    {
      "cell_type": "code",
      "metadata": {
        "id": "gTOHRXuvUATV"
      },
      "source": [
        "#example use of lambda function\n",
        "def multiply(n):\n",
        "    return lambda x: x*n\n",
        "triple=multiply(3)\n",
        "print(triple(3))\n",
        "print(triple(10))\n",
        "double=multiply(2)\n",
        "print(double(7))"
      ],
      "execution_count": null,
      "outputs": []
    },
    {
      "cell_type": "markdown",
      "metadata": {
        "id": "M5tMswAiUATV"
      },
      "source": [
        "## Python3 built-in functions\n",
        "len(), print(), max(), min(), type() etc. are all built-in functions defined in python3. A complete list of python3 built-in function can be found here: https://docs.python.org/3/library/functions.html"
      ]
    },
    {
      "cell_type": "markdown",
      "metadata": {
        "id": "QGowYChCezmN"
      },
      "source": [
        "##Function Exercises  \n",
        "\n"
      ]
    },
    {
      "cell_type": "markdown",
      "metadata": {
        "id": "vgvA3_vqezmV"
      },
      "source": [
        "Make a function for the code we wrote preveously to find the GC content of EGFR Exon 1. That code is below. Make the function able to give the GC content for multiple exons."
      ]
    },
    {
      "cell_type": "code",
      "metadata": {
        "id": "r0HIzhsSezmW"
      },
      "source": [
        "\n",
        "seq=\"AGACGTCCGGGCAGCCCCCGGCGCAGCGCGGCCGCAGCAGCCTCCGCCCCCCGCACGGTGTGAGCGCCCGACGCGGCCGAGGCGGCCGGAGTCCCGAGCTAGCCCCGGCGGCCGCCGCCGCCCAGACCGGACGACAGGCCACCTCGTCGGCGTCCGCCCGAGTCCCCGCCTCGCCGCCAACGCCACAACCACCGCGCACGGCCCCCTGACTCCGTCCAGTATTGATCGGGAGAGCCGGAGCGAGCTCTTCGGGGAGCAGCGATGCGACCCTCCGGGACGGCCGGGGCAGCGCTCCTGGCGCTGCTGGCTGCGCTCTGCCCGGCGAGTCGGGCTCTGGAGGAAAAGAAAG\"\n",
        "C=0\n",
        "G=0\n",
        "for i in seq:\n",
        "  if i == \"C\":\n",
        "    C=C+1\n",
        "  elif i == \"G\":\n",
        "    G=G+1\n",
        "\n",
        "#Calculate GC content\n",
        "GC=((G+C)/len(seq)*100)\n",
        "\n",
        "#Print to 4 sig figs.\n",
        "print(\"The GC content is \" + (\"%.4g\" % GC) + \"%\")"
      ],
      "execution_count": null,
      "outputs": []
    },
    {
      "cell_type": "markdown",
      "metadata": {
        "id": "W5QkUK0ofHWL"
      },
      "source": [
        "Here is a start on your function, you must do the rest. "
      ]
    },
    {
      "cell_type": "code",
      "metadata": {
        "id": "xqJwTkgcezmW"
      },
      "source": [
        "def getGC(seq):\n",
        "  C=0\n",
        "  G=0\n",
        "  for i in seq:\n",
        "   \n",
        "\n",
        "EGFR_E1=\"AGACGTCCGGGCAGCCCCCGGCGCAGCGCGGCCGCAGCAGCCTCCGCCCCCCGCACGGTGTGAGCGCCCGACGCGGCCGAGGCGGCCGGAGTCCCGAGCTAGCCCCGGCGGCCGCCGCCGCCCAGACCGGACGACAGGCCACCTCGTCGGCGTCCGCCCGAGTCCCCGCCTCGCCGCCAACGCCACAACCACCGCGCACGGCCCCCTGACTCCGTCCAGTATTGATCGGGAGAGCCGGAGCGAGCTCTTCGGGGAGCAGCGATGCGACCCTCCGGGACGGCCGGGGCAGCGCTCCTGGCGCTGCTGGCTGCGCTCTGCCCGGCGAGTCGGGCTCTGGAGGAAAAGAAAG\"\n",
        "EGFR_E2=\"TTTGCCAAGGCACGAGTAACAAGCTCACGCAGTTGGGCACTTTTGAAGATCATTTTCTCAGCCTCCAGAGGATGTTCAATAACTGTGAGGTGGTCCTTGGGAATTTGGAAATTACCTATGTGCAGAGGAATTATGATCTTTCCTTCTTAAAG\"\n",
        "EGFR_E3=\"ACCATCCAGGAGGTGGCTGGTTATGTCCTCATTGCCCTCAACACAGTGGAGCGAATTCCTTTGGAAAACCTGCAGATCATCAGAGGAAATATGTACTACGAAAATTCCTATGCCTTAGCAGTCTTATCTAACTATGATGCAAATAAAACCGGACTGAAGGAGCTGCCCATGAGAAATTTACAGG\"\n",
        "\n",
        "getGC(EGFR_E1)\n",
        "getGC(EGFR_E2)\n",
        "getGC(EGFR_E3)"
      ],
      "execution_count": null,
      "outputs": []
    },
    {
      "cell_type": "markdown",
      "metadata": {
        "id": "79NfUTb2ezmW"
      },
      "source": [
        "Make a function that converts a fastq file to fasta. \n",
        "\n",
        "A fastq file contains the reads which can be alligned to a genome for an RNA-Seq exprement. Each read has 4 lines associated with it:\n",
        "\n",
        "| Description  |             fastq  |\n",
        "|-------------:|---------------------------------|\n",
        "|Identifier    |     @SRR12334182.57 57 length=84|\n",
        "|Sequence      |        TGAGTGGTCATCGCCATTGTCTGCACTC |\n",
        "|Identifier  |     +SRR12334182.57 57 length=84 |\n",
        "|Quality scores |  AA6AAEEEEEEEEEEEEEEEEEEEEEEE |\n",
        "\n",
        "\n",
        "\n",
        "More information on fasta files can be found here\n",
        "https://support.illumina.com/bulletins/2016/04/fastq-files-explained.html\n",
        "\n",
        "\n",
        "A fasta file contains only an identifier, and a DNA/protein sequence. \n",
        "\n",
        "| Description  |             fasta  |\n",
        "|-------------:|---------------------------------|\n",
        "|Identifier    |     >SRR12334182.57 57 length=84|\n",
        "|Sequence      |        TGAGTGGTCATCGCCATTGTCTGCACTC |\n",
        "\n",
        "\n",
        "\n",
        "For this exercise, you will be converting a fastq file like above to fasta by extracting only the identifier and sequence from each read. Notice how in fasta the identifier has a \">\" in the beginning. \n",
        "\n",
        " \n",
        "\n",
        "\n",
        "\n",
        "\n",
        "\n",
        "\n"
      ]
    },
    {
      "cell_type": "markdown",
      "metadata": {
        "id": "TTYN3VBvezmX"
      },
      "source": [
        "To download the fastq file from GitHub to Colab, run the code block below. "
      ]
    },
    {
      "cell_type": "code",
      "metadata": {
        "id": "hfv_aPvXezmX"
      },
      "source": [
        "import urllib.request\n",
        "data = urllib.request.urlopen('https://raw.githubusercontent.com/jahaltom/Python_Workshop/main/COVID-19.fastq')\n",
        "fo=open('COVID-19.fastq','w')\n",
        "for line in data:\n",
        "  fo.write(line.decode(\"utf-8\").strip()+'\\n')"
      ],
      "execution_count": null,
      "outputs": []
    },
    {
      "cell_type": "markdown",
      "metadata": {
        "id": "WePULn_mezmX"
      },
      "source": [
        "To view COVID-19.fastq run the code block below. "
      ]
    },
    {
      "cell_type": "code",
      "metadata": {
        "id": "bW9bOTIOezmX"
      },
      "source": [
        "with open('COVID-19.fastq') as f:\n",
        "  for l in f: print(l)"
      ],
      "execution_count": null,
      "outputs": []
    },
    {
      "cell_type": "code",
      "metadata": {
        "id": "TZlSiwLlezmX"
      },
      "source": [
        "def fastq2fasta(fastq_file):\n",
        "  ##This opens the file we just created \"COVID-19.fastq\"\n",
        "  fastq = open(fastq_file, \"r\")\n",
        "  ##Deletes last char in file name(COVID-19.fastq) and adds (a) to make file extension fasta(COVID-19.fasta).\n",
        "  output= fastq_file[:-1]+\"a\"\n",
        "  ##This makes a blank fasta file to write to(COVID-19.fasta).\n",
        "  fasta=open(output, \"w\")\n",
        "  for line in fastq:\n",
        "    if line.startswith.....<-start here\n",
        "\n",
        "\n",
        "  #We must close the fasta output file once we are done writing to it. \n",
        "  fasta.close()\n",
        "\n",
        "\n",
        "##Calls function on COVID-19.fastq.\n",
        "fastq2fasta(\"COVID-19.fastq\")\n",
        "\n",
        "\n"
      ],
      "execution_count": null,
      "outputs": []
    },
    {
      "cell_type": "code",
      "metadata": {
        "id": "U7Ij8MXDezmX"
      },
      "source": [
        "#View your new fasta file\n",
        "fasta = open(\"COVID-19.fasta\", \"r\")\n",
        "for line in fasta:\n",
        "   print(line)\n"
      ],
      "execution_count": null,
      "outputs": []
    },
    {
      "cell_type": "markdown",
      "metadata": {
        "id": "G3YB7o6Ycib3"
      },
      "source": [
        "##Function Exercises Answers    \n",
        "\n"
      ]
    },
    {
      "cell_type": "markdown",
      "metadata": {
        "id": "ztk3sMrgdq8v"
      },
      "source": [
        "Make a function for the code we wrote preveously to find the GC content of EGFR Exon 1. That code is below. Make the function able to give the GC content for multiple exons."
      ]
    },
    {
      "cell_type": "code",
      "metadata": {
        "id": "i05y0aG3eO9I"
      },
      "source": [
        "\n",
        "seq=\"AGACGTCCGGGCAGCCCCCGGCGCAGCGCGGCCGCAGCAGCCTCCGCCCCCCGCACGGTGTGAGCGCCCGACGCGGCCGAGGCGGCCGGAGTCCCGAGCTAGCCCCGGCGGCCGCCGCCGCCCAGACCGGACGACAGGCCACCTCGTCGGCGTCCGCCCGAGTCCCCGCCTCGCCGCCAACGCCACAACCACCGCGCACGGCCCCCTGACTCCGTCCAGTATTGATCGGGAGAGCCGGAGCGAGCTCTTCGGGGAGCAGCGATGCGACCCTCCGGGACGGCCGGGGCAGCGCTCCTGGCGCTGCTGGCTGCGCTCTGCCCGGCGAGTCGGGCTCTGGAGGAAAAGAAAG\"\n",
        "C=0\n",
        "G=0\n",
        "for i in seq:\n",
        "  if i == \"C\":\n",
        "    C=C+1\n",
        "  elif i == \"G\":\n",
        "    G=G+1\n",
        "\n",
        "#Calculate GC content\n",
        "GC=((G+C)/len(seq)*100)\n",
        "\n",
        "#Print to 4 sig figs.\n",
        "print(\"The GC content is \" + (\"%.4g\" % GC) + \"%\")"
      ],
      "execution_count": null,
      "outputs": []
    },
    {
      "cell_type": "code",
      "metadata": {
        "id": "eVKGQ3Jrdq87"
      },
      "source": [
        "def getGC(seq):\n",
        "  C=0\n",
        "  G=0\n",
        "  for i in seq:\n",
        "    if i == \"C\":\n",
        "      C=C+1\n",
        "    elif i == \"G\":\n",
        "      G=G+1\n",
        "\n",
        "  #Calculate GC content\n",
        "  GC=((G+C)/len(seq)*100)\n",
        "\n",
        "  #Print to 4 sig figs.\n",
        "  print(\"The GC content is \" + (\"%.4g\" % GC) + \"%\")\n",
        "\n",
        "EGFR_E1=\"AGACGTCCGGGCAGCCCCCGGCGCAGCGCGGCCGCAGCAGCCTCCGCCCCCCGCACGGTGTGAGCGCCCGACGCGGCCGAGGCGGCCGGAGTCCCGAGCTAGCCCCGGCGGCCGCCGCCGCCCAGACCGGACGACAGGCCACCTCGTCGGCGTCCGCCCGAGTCCCCGCCTCGCCGCCAACGCCACAACCACCGCGCACGGCCCCCTGACTCCGTCCAGTATTGATCGGGAGAGCCGGAGCGAGCTCTTCGGGGAGCAGCGATGCGACCCTCCGGGACGGCCGGGGCAGCGCTCCTGGCGCTGCTGGCTGCGCTCTGCCCGGCGAGTCGGGCTCTGGAGGAAAAGAAAG\"\n",
        "EGFR_E2=\"TTTGCCAAGGCACGAGTAACAAGCTCACGCAGTTGGGCACTTTTGAAGATCATTTTCTCAGCCTCCAGAGGATGTTCAATAACTGTGAGGTGGTCCTTGGGAATTTGGAAATTACCTATGTGCAGAGGAATTATGATCTTTCCTTCTTAAAG\"\n",
        "EGFR_E3=\"ACCATCCAGGAGGTGGCTGGTTATGTCCTCATTGCCCTCAACACAGTGGAGCGAATTCCTTTGGAAAACCTGCAGATCATCAGAGGAAATATGTACTACGAAAATTCCTATGCCTTAGCAGTCTTATCTAACTATGATGCAAATAAAACCGGACTGAAGGAGCTGCCCATGAGAAATTTACAGG\"\n",
        "\n",
        "getGC(EGFR_E1)\n",
        "getGC(EGFR_E2)\n",
        "getGC(EGFR_E3)"
      ],
      "execution_count": null,
      "outputs": []
    },
    {
      "cell_type": "markdown",
      "metadata": {
        "id": "GXITRnrncib_"
      },
      "source": [
        "\n",
        "Make a function that converts a fastq file to fasta. \n",
        "\n",
        "A fastq file contains the reads which can be alligned to a genome for an RNA-Seq exprement. Each read has 4 lines associated with it:\n",
        "\n",
        "| Description  |             fastq  |\n",
        "|-------------:|---------------------------------|\n",
        "|Identifier    |     @SRR12334182.57 57 length=84|\n",
        "|Sequence      |        TGAGTGGTCATCGCCATTGTCTGCACTC |\n",
        "|Identifier  |     +SRR12334182.57 57 length=84 |\n",
        "|Quality scores |  AA6AAEEEEEEEEEEEEEEEEEEEEEEE |\n",
        "\n",
        "\n",
        "\n",
        "More information on fasta files can be found here\n",
        "https://support.illumina.com/bulletins/2016/04/fastq-files-explained.html\n",
        "\n",
        "\n",
        "A fasta file contains only an identifier, and a DNA/protein sequence. \n",
        "\n",
        "| Description  |             fasta  |\n",
        "|-------------:|---------------------------------|\n",
        "|Identifier    |     >SRR12334182.57 57 length=84|\n",
        "|Sequence      |        TGAGTGGTCATCGCCATTGTCTGCACTC |\n",
        "\n",
        "\n",
        "\n",
        "For this exercise, you will be converting a fastq file like above to fasta by extracting only the identifier and sequence from each read. Notice how in fasta the identifier has a \">\" in the beginning. \n",
        "\n",
        " \n",
        "\n",
        "\n",
        "\n",
        "\n",
        "\n",
        "\n"
      ]
    },
    {
      "cell_type": "markdown",
      "metadata": {
        "id": "eH46BYOTcib_"
      },
      "source": [
        "To download the fastq file from GitHub to Colab, run the code block below. "
      ]
    },
    {
      "cell_type": "code",
      "metadata": {
        "id": "P2MJCnJYcib_"
      },
      "source": [
        "import urllib.request\n",
        "data = urllib.request.urlopen('https://raw.githubusercontent.com/jahaltom/Python_Workshop/main/COVID-19.fastq')\n",
        "fo=open('COVID-19.fastq','w')\n",
        "for line in data:\n",
        "  fo.write(line.decode(\"utf-8\").strip()+'\\n')"
      ],
      "execution_count": null,
      "outputs": []
    },
    {
      "cell_type": "markdown",
      "metadata": {
        "id": "SKwRSTgscib_"
      },
      "source": [
        "To view COVID-19.fastq run the code block below. "
      ]
    },
    {
      "cell_type": "code",
      "metadata": {
        "id": "fZNaSfLFcicA"
      },
      "source": [
        "with open('COVID-19.fastq') as f:\n",
        "  for l in f: print(l)"
      ],
      "execution_count": null,
      "outputs": []
    },
    {
      "cell_type": "code",
      "metadata": {
        "id": "bIOPZWBVcicB"
      },
      "source": [
        "def fastq2fasta(fastq_file):\n",
        "  ##This opens the file we just created \"COVID-19.fastq\"\n",
        "  fastq = open(fastq_file, \"r\")\n",
        "  ##Deletes last char in file name(COVID-19.fastq) and adds (a) to make file extension fasta(COVID-19.fasta).\n",
        "  output= fastq_file[:-1]+\"a\"\n",
        "  ##This makes a blank fasta file to write to(COVID-19.fasta).\n",
        "  fasta=open(output, \"w\")\n",
        "  for line in fastq:\n",
        "    if line.startswith(\"@\"):\n",
        "      fasta.write(line.replace(\" \",\"_\").replace(\"@\",\">\"))\n",
        "      fasta.write(next(fastq, '').strip())\n",
        "      fasta.write('\\n')\n",
        "  fasta.close()\n",
        "\n",
        "\n",
        "##Calls function on COVID-19.fastq.\n",
        "fastq2fasta(\"COVID-19.fastq\")\n",
        "\n",
        "\n"
      ],
      "execution_count": null,
      "outputs": []
    },
    {
      "cell_type": "code",
      "metadata": {
        "id": "FY89z3oLcicB"
      },
      "source": [
        "#View your new fasta file\n",
        "fasta = open(\"COVID-19.fasta\", \"r\")\n",
        "for line in fasta:\n",
        "   print(line)"
      ],
      "execution_count": null,
      "outputs": []
    }
  ]
}