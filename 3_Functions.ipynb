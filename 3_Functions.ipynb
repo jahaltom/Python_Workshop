{
  "nbformat": 4,
  "nbformat_minor": 0,
  "metadata": {
    "kernelspec": {
      "display_name": "Python 3",
      "language": "python",
      "name": "python3"
    },
    "language_info": {
      "codemirror_mode": {
        "name": "ipython",
        "version": 3
      },
      "file_extension": ".py",
      "mimetype": "text/x-python",
      "name": "python",
      "nbconvert_exporter": "python",
      "pygments_lexer": "ipython3",
      "version": "3.6.5"
    },
    "colab": {
      "name": "Copy of 3_Functions.ipynb",
      "provenance": [],
      "collapsed_sections": [],
      "include_colab_link": true
    }
  },
  "cells": [
    {
      "cell_type": "markdown",
      "metadata": {
        "id": "view-in-github",
        "colab_type": "text"
      },
      "source": [
        "<a href=\"https://colab.research.google.com/github/jahaltom/Python_Workshop/blob/main/3_Functions.ipynb\" target=\"_parent\"><img src=\"https://colab.research.google.com/assets/colab-badge.svg\" alt=\"Open In Colab\"/></a>"
      ]
    },
    {
      "cell_type": "markdown",
      "metadata": {
        "id": "uCNSoykfUATN"
      },
      "source": [
        "<h1><center>Functions</center></h1>\n",
        "## Introduction\n",
        "\n",
        "Functions allow to group a number of statements together is a code block. This code block can then be called from any where in the program as required. Functions allows to create modular code which is easy to reuse. Functions can also take a number of parameters. The value calculated by the function then depends on the parameters supplied at the time of function call. Depending on the function type and definition, a function can return a value of different types. A function returns a value if a *return* statement is included at the end of the function body. If a *return* statement is missing from the function body the function by default returns *None*.\n",
        "\n",
        "In python a function is defined using *def* statement. The general syntax of a function named *functionA* with *N* parameters looks like\n",
        "\n",
        "```\n",
        "def functionA(parameter1,paramenter2,...,parameterN):\n",
        "    statementA\n",
        "    statementB\n",
        "    statementC\n",
        "    .\n",
        "    .\n",
        "    .\n",
        "    statementN\n",
        "    return returnValue\n",
        "```"
      ]
    },
    {
      "cell_type": "code",
      "metadata": {
        "id": "U4GhA3lrUATR"
      },
      "source": [
        "#this function takes no argument, returns None\n",
        "def printWelcome():\n",
        "    print (\"Hi, Welcome!\")\n",
        "#this function takes no argument, returns a str object\n",
        "def getName():\n",
        "    name=input(\"Please Enter your name: \")\n",
        "    return name\n",
        "#this function takes a str object, returns None\n",
        "def printMessage(name):\n",
        "    print (\"How are you, \"+name)\n",
        "#this function takes no argument, returns None\n",
        "def printGoodbye():\n",
        "    print (\"Goodbye...\")\n",
        "\n",
        "\n",
        "\n",
        "\n",
        "#####Call the functions######\n",
        "printWelcome()\n",
        "user=getName()\n",
        "printMessage(user)\n",
        "printGoodbye()"
      ],
      "execution_count": null,
      "outputs": []
    },
    {
      "cell_type": "markdown",
      "metadata": {
        "id": "1j96_-UYhn2j"
      },
      "source": [
        "Make a function for the code we wrote preveously to find the GC content of EGFR Exon 1. "
      ]
    },
    {
      "cell_type": "code",
      "metadata": {
        "id": "GYQM9H2ShwhP"
      },
      "source": [
        "seq=\"AGACGTCCGGGCAGCCCCCGGCGCAGCGCGGCCGCAGCAGCCTCCGCCCCCCGCACGGTGTGAGCGCCCGACGCGGCCGAGGCGGCCGGAGTCCCGAGCTAGCCCCGGCGGCCGCCGCCGCCCAGACCGGACGACAGGCCACCTCGTCGGCGTCCGCCCGAGTCCCCGCCTCGCCGCCAACGCCACAACCACCGCGCACGGCCCCCTGACTCCGTCCAGTATTGATCGGGAGAGCCGGAGCGAGCTCTTCGGGGAGCAGCGATGCGACCCTCCGGGACGGCCGGGGCAGCGCTCCTGGCGCTGCTGGCTGCGCTCTGCCCGGCGAGTCGGGCTCTGGAGGAAAAGAAAG\"\n",
        "C=0\n",
        "G=0\n",
        "for i in seq:\n",
        "  if i == \"C\":\n",
        "    C=C+1\n",
        "  elif i == \"G\":\n",
        "    G=G+1\n",
        "\n",
        "#Calculate GC content\n",
        "GC=((G+C)/len(seq)*100)\n",
        "\n",
        "#Print to 4 sig figs.\n",
        "print(\"The GC content is \" + (\"%.4g\" % GC) + \"%\")"
      ],
      "execution_count": null,
      "outputs": []
    },
    {
      "cell_type": "code",
      "metadata": {
        "colab": {
          "base_uri": "https://localhost:8080/"
        },
        "id": "APLUU027flGh",
        "outputId": "258dc296-bd4d-48a5-9975-8c60f510c052"
      },
      "source": [
        "def getGC(seq):\n",
        "  C=0\n",
        "  G=0\n",
        "  for i in seq:\n",
        "    if i == \"C\":\n",
        "      C=C+1\n",
        "    elif i == \"G\":\n",
        "      G=G+1\n",
        "\n",
        "  #Calculate GC content\n",
        "  GC=((G+C)/len(seq)*100)\n",
        "\n",
        "  #Print to 4 sig figs.\n",
        "  print(\"The GC content is \" + (\"%.4g\" % GC) + \"%\")\n",
        "\n",
        "EGFR_E1=\"AGACGTCCGGGCAGCCCCCGGCGCAGCGCGGCCGCAGCAGCCTCCGCCCCCCGCACGGTGTGAGCGCCCGACGCGGCCGAGGCGGCCGGAGTCCCGAGCTAGCCCCGGCGGCCGCCGCCGCCCAGACCGGACGACAGGCCACCTCGTCGGCGTCCGCCCGAGTCCCCGCCTCGCCGCCAACGCCACAACCACCGCGCACGGCCCCCTGACTCCGTCCAGTATTGATCGGGAGAGCCGGAGCGAGCTCTTCGGGGAGCAGCGATGCGACCCTCCGGGACGGCCGGGGCAGCGCTCCTGGCGCTGCTGGCTGCGCTCTGCCCGGCGAGTCGGGCTCTGGAGGAAAAGAAAG\"\n",
        "EGFR_E2=\"TTTGCCAAGGCACGAGTAACAAGCTCACGCAGTTGGGCACTTTTGAAGATCATTTTCTCAGCCTCCAGAGGATGTTCAATAACTGTGAGGTGGTCCTTGGGAATTTGGAAATTACCTATGTGCAGAGGAATTATGATCTTTCCTTCTTAAAG\"\n",
        "EGFR_E3=\"ACCATCCAGGAGGTGGCTGGTTATGTCCTCATTGCCCTCAACACAGTGGAGCGAATTCCTTTGGAAAACCTGCAGATCATCAGAGGAAATATGTACTACGAAAATTCCTATGCCTTAGCAGTCTTATCTAACTATGATGCAAATAAAACCGGACTGAAGGAGCTGCCCATGAGAAATTTACAGG\"\n",
        "\n",
        "getGC(EGFR_E1)\n",
        "getGC(EGFR_E2)\n",
        "getGC(EGFR_E3)"
      ],
      "execution_count": null,
      "outputs": [
        {
          "output_type": "stream",
          "text": [
            "The GC content is 76.22%\n",
            "The GC content is 42.76%\n",
            "The GC content is 44.02%\n"
          ],
          "name": "stdout"
        }
      ]
    },
    {
      "cell_type": "markdown",
      "metadata": {
        "id": "u1ZvjxyNiO_o"
      },
      "source": [
        "Make a function out of the code below that converts any number of fastq files to fasta."
      ]
    },
    {
      "cell_type": "code",
      "metadata": {
        "id": "tAvupSa5qorl"
      },
      "source": [
        "\n",
        "\n",
        "fastq = open(\"COVID-19.fastq\", \"r\")\n",
        "fasta=open(\"COVID-19.fasta\", \"w\")\n",
        "for line in fastq:\n",
        "  if line.startswith(\"@\"):   \n",
        "   fasta.write(line.replace(\" \",\"_\").replace(\"@\",\">\"))\n",
        "   fasta.write(next(fastq, '').strip())\n",
        "   fasta.write('\\n')\n",
        "fasta.close()\n",
        "\n",
        "\n",
        "\n",
        "#View your new fasta file\n",
        "fasta = open(\"COVID-19.fasta\", \"r\")\n",
        "for line in fasta:\n",
        " print(line)\n"
      ],
      "execution_count": null,
      "outputs": []
    },
    {
      "cell_type": "code",
      "metadata": {
        "id": "WXzx3ygSxlfn"
      },
      "source": [
        "def fastq2fasta(fastq_file):\n",
        "  fastq = open(fastq_file, \"r\")\n",
        "  output= fastq_file[:-1]+\"a\"\n",
        "  fasta=open(output, \"w\")\n",
        "  for line in fastq:\n",
        "    if line.startswith(\"@\"):\n",
        "      fasta.write(line.replace(\" \",\"_\").replace(\"@\",\">\"))\n",
        "      fasta.write(next(fastq, '').strip())\n",
        "      fasta.write('\\n')\n",
        "  fasta.close()\n",
        "  #View your new fasta file\n",
        "  fasta = open(output, \"r\")\n",
        "  for line in fasta:\n",
        "   print(line)\n",
        "\n",
        "\n",
        "\n",
        "fastq2fasta(\"COVID-19.fastq\")\n",
        "\n",
        "\n"
      ],
      "execution_count": null,
      "outputs": []
    },
    {
      "cell_type": "markdown",
      "metadata": {
        "id": "KeM0x37ZUATT"
      },
      "source": [
        "### Lambda functions\n",
        "Lambda functions are anonymous functions which are defined without a name. They are defined using the keyword *lambda* and can take any number of arguments. Lambda functions can be quickly passed on to functions as arguments or can be used inside other functions."
      ]
    },
    {
      "cell_type": "code",
      "metadata": {
        "id": "0fz6wr9WUATU",
        "outputId": "8427db20-6729-4269-c0e8-fd6093945257"
      },
      "source": [
        "#define a lambda function to add 10\n",
        "\n",
        "add10=lambda x: x+10\n",
        "print(add10(2))"
      ],
      "execution_count": null,
      "outputs": [
        {
          "output_type": "stream",
          "text": [
            "12\n"
          ],
          "name": "stdout"
        }
      ]
    },
    {
      "cell_type": "code",
      "metadata": {
        "id": "gTOHRXuvUATV",
        "outputId": "f848bfb9-7a8a-46c5-92f3-186523e78e5d"
      },
      "source": [
        "#example use of lambda function\n",
        "def multiply(n):\n",
        "    return lambda x: x*n\n",
        "triple=multiply(3)\n",
        "print(triple(3))\n",
        "print(triple(10))\n",
        "double=multiply(2)\n",
        "print(double(7))"
      ],
      "execution_count": null,
      "outputs": [
        {
          "output_type": "stream",
          "text": [
            "9\n",
            "30\n",
            "14\n"
          ],
          "name": "stdout"
        }
      ]
    },
    {
      "cell_type": "markdown",
      "metadata": {
        "id": "M5tMswAiUATV"
      },
      "source": [
        "### Python3 built-in functions\n",
        "len(), print(), max(), min(), type() etc. are all built-in functions defined in python3. A complete list of python3 built-in function can be found here: https://docs.python.org/3/library/functions.html"
      ]
    },
    {
      "cell_type": "markdown",
      "metadata": {
        "id": "pzYHYZ49XZiw"
      },
      "source": [
        "When a class defines an __init__() method, class instantiation automatically invokes __init__() for the newly-created class instance."
      ]
    },
    {
      "cell_type": "code",
      "metadata": {
        "id": "gXcO-9soUATW",
        "colab": {
          "base_uri": "https://localhost:8080/"
        },
        "outputId": "42837891-9e46-4008-f574-64aa4f5617aa"
      },
      "source": [
        "class Complex:\n",
        "  def __init__(self, realpart, imagpart):\n",
        "    self.r = realpart\n",
        "    self.i = imagpart\n",
        "x = Complex(3.0, -4.5)\n",
        "print(x.r, x.i)"
      ],
      "execution_count": null,
      "outputs": [
        {
          "output_type": "stream",
          "text": [
            "3.0 -4.5\n"
          ],
          "name": "stdout"
        }
      ]
    }
  ]
}